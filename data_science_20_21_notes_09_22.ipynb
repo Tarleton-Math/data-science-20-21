{
  "nbformat": 4,
  "nbformat_minor": 0,
  "metadata": {
    "colab": {
      "name": "data-science-20-21-notes-09-22b.ipynb",
      "provenance": [],
      "collapsed_sections": [],
      "authorship_tag": "ABX9TyO8tllA/hHH5ELKaZ9NAkO/",
      "include_colab_link": true
    },
    "kernelspec": {
      "name": "python3",
      "display_name": "Python 3"
    }
  },
  "cells": [
    {
      "cell_type": "markdown",
      "metadata": {
        "id": "view-in-github",
        "colab_type": "text"
      },
      "source": [
        "<a href=\"https://colab.research.google.com/github/Tarleton-Math/data-science-20-21/blob/master/data_science_20_21_notes_09_22.ipynb\" target=\"_parent\"><img src=\"https://colab.research.google.com/assets/colab-badge.svg\" alt=\"Open In Colab\"/></a>"
      ]
    },
    {
      "cell_type": "markdown",
      "metadata": {
        "id": "PVzLtTMqcwL0",
        "colab_type": "text"
      },
      "source": [
        "#  Intro to Sci-Kit Learn and Model Evaluation\n",
        "## Class Notes 2020-09-22\n",
        "## Data Science (masters)\n",
        "## Math 5364 & 5366, Fall 20 & Spring 21\n",
        "## Tarleton State University\n",
        "## Dr. Scott Cook"
      ]
    },
    {
      "cell_type": "code",
      "metadata": {
        "id": "Yld9hSTzWIWC",
        "colab_type": "code",
        "colab": {
          "base_uri": "https://localhost:8080/",
          "height": 128
        },
        "outputId": "bf9f818d-deb1-470c-f568-2e52eda28ecd"
      },
      "source": [
        "! pip install --upgrade numpy\n",
        "! pip install --upgrade pandas"
      ],
      "execution_count": null,
      "outputs": [
        {
          "output_type": "stream",
          "text": [
            "Requirement already up-to-date: numpy in /usr/local/lib/python3.6/dist-packages (1.19.2)\n",
            "Requirement already up-to-date: pandas in /usr/local/lib/python3.6/dist-packages (1.1.2)\n",
            "Requirement already satisfied, skipping upgrade: numpy>=1.15.4 in /usr/local/lib/python3.6/dist-packages (from pandas) (1.19.2)\n",
            "Requirement already satisfied, skipping upgrade: python-dateutil>=2.7.3 in /usr/local/lib/python3.6/dist-packages (from pandas) (2.8.1)\n",
            "Requirement already satisfied, skipping upgrade: pytz>=2017.2 in /usr/local/lib/python3.6/dist-packages (from pandas) (2018.9)\n",
            "Requirement already satisfied, skipping upgrade: six>=1.5 in /usr/local/lib/python3.6/dist-packages (from python-dateutil>=2.7.3->pandas) (1.15.0)\n"
          ],
          "name": "stdout"
        }
      ]
    },
    {
      "cell_type": "markdown",
      "metadata": {
        "id": "KwaCEsNidItO",
        "colab_type": "text"
      },
      "source": [
        "We've written cross-validation and knn code by hand to strengthen our python skills.  But, let's face it - this is a lot of work.  And these are some of the simpler algorithms.\n",
        "\n",
        "Scikit-learn offers a TON of pre-built data science algorithms that are both easier to use and much more powerful.  Let's start taking advantage of them."
      ]
    },
    {
      "cell_type": "markdown",
      "metadata": {
        "id": "5OFvB9SXesoz",
        "colab_type": "text"
      },
      "source": [
        "First, meet \"StratifiedKFold\" and \"StratifiedShuffleSplit\".\n",
        "\n",
        "- def: A cross-validation algorithm is *stratified* if it tried to ensure that all classes of the target variable are proportionately represented in each split.\n",
        "    - Ex: Suppose we're working with the [Wisconsin breast cancer dataset](https://scikit-learn.org/stable/modules/generated/sklearn.datasets.load_breast_cancer.html) of biopsy result of 212 (37%) malignant and 357 (63%) benign breast tumors.  We want each split to have about the some proportions of malignant and benign obervations.\n",
        "    - The cv techniques from prior notes do not intentionally do this.  But these \"statified\" versions so.\n",
        "\n",
        "- *StratifiedKFold* is a stratified version of $k$-fold\n",
        "- *StratifiedShuffleSplit* is a stratified version of \"ShuffleSplit\".\n",
        "    - sklearn's \"ShuffleSplit\" is almost identical to delete-$d$, except it also shuffles the rows.  That's great - we can use it for the initial holdout/modeling split and it automatically takes care of shuffling the data for us!"
      ]
    },
    {
      "cell_type": "code",
      "metadata": {
        "id": "7trb01jQelC4",
        "colab_type": "code",
        "colab": {
          "base_uri": "https://localhost:8080/",
          "height": 35
        },
        "outputId": "995097ec-9f59-4601-df94-60f95fee4d1f"
      },
      "source": [
        "import numpy as np\n",
        "import pandas as pd\n",
        "from copy import deepcopy  # makes a copy of complex, nested data structures\n",
        "from sklearn.datasets import load_wine\n",
        "from sklearn.model_selection import StratifiedKFold, StratifiedShuffleSplit\n",
        "\n",
        "data = load_wine()\n",
        "n, q = data.data.shape\n",
        "holdout_frac = 0.1\n",
        "\n",
        "X, y = data.data, data.target\n",
        "holdout_splitter = StratifiedShuffleSplit(n_splits=1, test_size=holdout_frac, random_state=42)\n",
        "try:\n",
        "    model_idx, holdout_idx = next(holdout_splitter.split(X, y))\n",
        "except ValueError:\n",
        "    # If holdout_frac is too small or big, one of the splits would have 0 observations.\n",
        "    # This throws a ValueError.  In this case, all observations go to the modeling set,\n",
        "    print('err')\n",
        "    model_idx, holdout_idx = (), []\n",
        "X_m, y_m = X[model_idx]  , y[model_idx]\n",
        "X_h, y_h = X[holdout_idx], y[holdout_idx]\n",
        "X_m.shape, X_h.shape"
      ],
      "execution_count": null,
      "outputs": [
        {
          "output_type": "execute_result",
          "data": {
            "text/plain": [
              "((160, 13), (18, 13))"
            ]
          },
          "metadata": {
            "tags": []
          },
          "execution_count": 2
        }
      ]
    },
    {
      "cell_type": "code",
      "metadata": {
        "id": "pBlOwBQ3qDjt",
        "colab_type": "code",
        "colab": {}
      },
      "source": [
        "from sklearn.metrics import confusion_matrix\n",
        "import matplotlib.pyplot as plt\n",
        "import seaborn as sns\n",
        "\n",
        "def run_model(X, y, pipe, show_confusion=True, n_splits=10):\n",
        "    acc = []\n",
        "    cfs = []\n",
        "    train_splitter = StratifiedKFold(n_splits)\n",
        "    f = 0\n",
        "    for train, valid in train_splitter.split(X, y):\n",
        "        y_true = y[valid]\n",
        "        y_pred = pipe.fit(X[train], y[train]).predict(X[valid])\n",
        "        cf = confusion_matrix(y_true, y_pred)\n",
        "        a = cf.trace() / cf.sum()\n",
        "        acc.append(a)\n",
        "        cfs.append(cf)\n",
        "        if show_confusion:\n",
        "            k = pipe.named_steps['classify'].n_neighbors\n",
        "            print(f\"Confusion matrix for fold {f} for {k} neighbors\")\n",
        "            display_confusion_matrix(cf)\n",
        "        f += 1\n",
        "    return {'acc':acc, 'cfs':cfs, 'acc_mean':np.mean(acc)*100}\n",
        "\n",
        "def display_confusion_matrix(cf):\n",
        "    sns.heatmap(cf, annot=True)\n",
        "    plt.xlabel(\"predicted\")\n",
        "    plt.ylabel(\"actual\")\n",
        "    plt.show()\n",
        "\n",
        "def display_results(df):\n",
        "    df = df.astype('float')\n",
        "    with pd.option_context(\"display.max_rows\", 1000):\n",
        "        display(df.style.set_precision(2)\n",
        "            .highlight_max(axis=0)\n",
        "            .set_properties(**{'text-align':'center', 'border-width':'thin','border-style':'dotted'})\n",
        "            .set_table_attributes('style=\"border-collapse:collapse\"')\n",
        "        )\n",
        "    return df\n",
        "    "
      ],
      "execution_count": null,
      "outputs": []
    },
    {
      "cell_type": "code",
      "metadata": {
        "id": "IglOfUGNB5ym",
        "colab_type": "code",
        "colab": {}
      },
      "source": [
        "from sklearn.pipeline import Pipeline\n",
        "from sklearn.neighbors import KNeighborsClassifier\n",
        "\n",
        "show_confusion = True\n",
        "\n",
        "pipe = Pipeline([('classify', KNeighborsClassifier(n_neighbors=5))])\n",
        "res = run_model(X_m, y_m, pipe, show_confusion)\n",
        "print(f\"Mean accuracy over all cross-validations is {res['acc_mean']}%\")"
      ],
      "execution_count": null,
      "outputs": []
    },
    {
      "cell_type": "code",
      "metadata": {
        "id": "8MaovG1So1hw",
        "colab_type": "code",
        "colab": {
          "base_uri": "https://localhost:8080/",
          "height": 257
        },
        "outputId": "03d6e8d6-a6d7-4bc4-b033-e16934a337dc"
      },
      "source": [
        "from sklearn.pipeline import Pipeline\n",
        "from sklearn.neighbors import KNeighborsClassifier\n",
        "\n",
        "show_confusion = False\n",
        "N_neighbors    = np.arange(1, 10+1)\n",
        "\n",
        "df_results = pd.DataFrame(columns=['n_neighbors', 'acc_mean']).set_index('n_neighbors')\n",
        "for k in N_neighbors:\n",
        "    pipe = Pipeline([('classify', KNeighborsClassifier(n_neighbors=k))])\n",
        "    res = run_model(X_m, y_m, pipe, show_confusion)\n",
        "    df_results.loc[k, 'acc_mean'] = res['acc_mean']\n",
        "display_results(df_results);"
      ],
      "execution_count": null,
      "outputs": [
        {
          "output_type": "display_data",
          "data": {
            "text/html": [
              "<style  type=\"text/css\" >\n",
              "#T_f28e4a52_fbc7_11ea_9dbe_0242ac1c0002row0_col0,#T_f28e4a52_fbc7_11ea_9dbe_0242ac1c0002row1_col0,#T_f28e4a52_fbc7_11ea_9dbe_0242ac1c0002row2_col0,#T_f28e4a52_fbc7_11ea_9dbe_0242ac1c0002row3_col0,#T_f28e4a52_fbc7_11ea_9dbe_0242ac1c0002row6_col0,#T_f28e4a52_fbc7_11ea_9dbe_0242ac1c0002row7_col0,#T_f28e4a52_fbc7_11ea_9dbe_0242ac1c0002row8_col0,#T_f28e4a52_fbc7_11ea_9dbe_0242ac1c0002row9_col0{\n",
              "            text-align:  center;\n",
              "            border-width:  thin;\n",
              "            border-style:  dotted;\n",
              "        }#T_f28e4a52_fbc7_11ea_9dbe_0242ac1c0002row4_col0,#T_f28e4a52_fbc7_11ea_9dbe_0242ac1c0002row5_col0{\n",
              "            background-color:  yellow;\n",
              "            text-align:  center;\n",
              "            border-width:  thin;\n",
              "            border-style:  dotted;\n",
              "        }</style><table id=\"T_f28e4a52_fbc7_11ea_9dbe_0242ac1c0002\" style=\"border-collapse:collapse\"><thead>    <tr>        <th class=\"blank level0\" ></th>        <th class=\"col_heading level0 col0\" >acc_mean</th>    </tr>    <tr>        <th class=\"index_name level0\" >n_neighbors</th>        <th class=\"blank\" ></th>    </tr></thead><tbody>\n",
              "                <tr>\n",
              "                        <th id=\"T_f28e4a52_fbc7_11ea_9dbe_0242ac1c0002level0_row0\" class=\"row_heading level0 row0\" >1</th>\n",
              "                        <td id=\"T_f28e4a52_fbc7_11ea_9dbe_0242ac1c0002row0_col0\" class=\"data row0 col0\" >70.00</td>\n",
              "            </tr>\n",
              "            <tr>\n",
              "                        <th id=\"T_f28e4a52_fbc7_11ea_9dbe_0242ac1c0002level0_row1\" class=\"row_heading level0 row1\" >2</th>\n",
              "                        <td id=\"T_f28e4a52_fbc7_11ea_9dbe_0242ac1c0002row1_col0\" class=\"data row1 col0\" >61.88</td>\n",
              "            </tr>\n",
              "            <tr>\n",
              "                        <th id=\"T_f28e4a52_fbc7_11ea_9dbe_0242ac1c0002level0_row2\" class=\"row_heading level0 row2\" >3</th>\n",
              "                        <td id=\"T_f28e4a52_fbc7_11ea_9dbe_0242ac1c0002row2_col0\" class=\"data row2 col0\" >67.50</td>\n",
              "            </tr>\n",
              "            <tr>\n",
              "                        <th id=\"T_f28e4a52_fbc7_11ea_9dbe_0242ac1c0002level0_row3\" class=\"row_heading level0 row3\" >4</th>\n",
              "                        <td id=\"T_f28e4a52_fbc7_11ea_9dbe_0242ac1c0002row3_col0\" class=\"data row3 col0\" >68.12</td>\n",
              "            </tr>\n",
              "            <tr>\n",
              "                        <th id=\"T_f28e4a52_fbc7_11ea_9dbe_0242ac1c0002level0_row4\" class=\"row_heading level0 row4\" >5</th>\n",
              "                        <td id=\"T_f28e4a52_fbc7_11ea_9dbe_0242ac1c0002row4_col0\" class=\"data row4 col0\" >71.25</td>\n",
              "            </tr>\n",
              "            <tr>\n",
              "                        <th id=\"T_f28e4a52_fbc7_11ea_9dbe_0242ac1c0002level0_row5\" class=\"row_heading level0 row5\" >6</th>\n",
              "                        <td id=\"T_f28e4a52_fbc7_11ea_9dbe_0242ac1c0002row5_col0\" class=\"data row5 col0\" >71.25</td>\n",
              "            </tr>\n",
              "            <tr>\n",
              "                        <th id=\"T_f28e4a52_fbc7_11ea_9dbe_0242ac1c0002level0_row6\" class=\"row_heading level0 row6\" >7</th>\n",
              "                        <td id=\"T_f28e4a52_fbc7_11ea_9dbe_0242ac1c0002row6_col0\" class=\"data row6 col0\" >66.88</td>\n",
              "            </tr>\n",
              "            <tr>\n",
              "                        <th id=\"T_f28e4a52_fbc7_11ea_9dbe_0242ac1c0002level0_row7\" class=\"row_heading level0 row7\" >8</th>\n",
              "                        <td id=\"T_f28e4a52_fbc7_11ea_9dbe_0242ac1c0002row7_col0\" class=\"data row7 col0\" >66.25</td>\n",
              "            </tr>\n",
              "            <tr>\n",
              "                        <th id=\"T_f28e4a52_fbc7_11ea_9dbe_0242ac1c0002level0_row8\" class=\"row_heading level0 row8\" >9</th>\n",
              "                        <td id=\"T_f28e4a52_fbc7_11ea_9dbe_0242ac1c0002row8_col0\" class=\"data row8 col0\" >70.00</td>\n",
              "            </tr>\n",
              "            <tr>\n",
              "                        <th id=\"T_f28e4a52_fbc7_11ea_9dbe_0242ac1c0002level0_row9\" class=\"row_heading level0 row9\" >10</th>\n",
              "                        <td id=\"T_f28e4a52_fbc7_11ea_9dbe_0242ac1c0002row9_col0\" class=\"data row9 col0\" >66.88</td>\n",
              "            </tr>\n",
              "    </tbody></table>"
            ],
            "text/plain": [
              "<pandas.io.formats.style.Styler at 0x7f56727d8e80>"
            ]
          },
          "metadata": {
            "tags": []
          }
        }
      ]
    },
    {
      "cell_type": "code",
      "metadata": {
        "id": "DjQNif7PtI8x",
        "colab_type": "code",
        "colab": {
          "base_uri": "https://localhost:8080/",
          "height": 257
        },
        "outputId": "903a363d-2f22-49f5-964a-3f8f6185c6ba"
      },
      "source": [
        "from sklearn.pipeline import Pipeline\n",
        "from sklearn.neighbors import KNeighborsClassifier\n",
        "from sklearn.preprocessing import StandardScaler\n",
        "\n",
        "show_confusion = False\n",
        "N_neighbors    = np.arange(1, 10+1)\n",
        "\n",
        "df_results = pd.DataFrame(columns=['n_neighbors', 'acc_mean']).set_index('n_neighbors')\n",
        "for k in N_neighbors:\n",
        "    pipe = Pipeline([('scale'   , StandardScaler()),\n",
        "                     ('classify', KNeighborsClassifier(n_neighbors=k))])\n",
        "    res = run_model(X_m, y_m, pipe, show_confusion)\n",
        "    df_results.loc[k, 'acc_mean'] = res['acc_mean']\n",
        "display_results(df_results);"
      ],
      "execution_count": null,
      "outputs": [
        {
          "output_type": "display_data",
          "data": {
            "text/html": [
              "<style  type=\"text/css\" >\n",
              "#T_f2c0e796_fbc7_11ea_9dbe_0242ac1c0002row0_col0,#T_f2c0e796_fbc7_11ea_9dbe_0242ac1c0002row1_col0,#T_f2c0e796_fbc7_11ea_9dbe_0242ac1c0002row2_col0,#T_f2c0e796_fbc7_11ea_9dbe_0242ac1c0002row3_col0,#T_f2c0e796_fbc7_11ea_9dbe_0242ac1c0002row4_col0,#T_f2c0e796_fbc7_11ea_9dbe_0242ac1c0002row5_col0,#T_f2c0e796_fbc7_11ea_9dbe_0242ac1c0002row7_col0,#T_f2c0e796_fbc7_11ea_9dbe_0242ac1c0002row8_col0,#T_f2c0e796_fbc7_11ea_9dbe_0242ac1c0002row9_col0{\n",
              "            text-align:  center;\n",
              "            border-width:  thin;\n",
              "            border-style:  dotted;\n",
              "        }#T_f2c0e796_fbc7_11ea_9dbe_0242ac1c0002row6_col0{\n",
              "            background-color:  yellow;\n",
              "            text-align:  center;\n",
              "            border-width:  thin;\n",
              "            border-style:  dotted;\n",
              "        }</style><table id=\"T_f2c0e796_fbc7_11ea_9dbe_0242ac1c0002\" style=\"border-collapse:collapse\"><thead>    <tr>        <th class=\"blank level0\" ></th>        <th class=\"col_heading level0 col0\" >acc_mean</th>    </tr>    <tr>        <th class=\"index_name level0\" >n_neighbors</th>        <th class=\"blank\" ></th>    </tr></thead><tbody>\n",
              "                <tr>\n",
              "                        <th id=\"T_f2c0e796_fbc7_11ea_9dbe_0242ac1c0002level0_row0\" class=\"row_heading level0 row0\" >1</th>\n",
              "                        <td id=\"T_f2c0e796_fbc7_11ea_9dbe_0242ac1c0002row0_col0\" class=\"data row0 col0\" >95.00</td>\n",
              "            </tr>\n",
              "            <tr>\n",
              "                        <th id=\"T_f2c0e796_fbc7_11ea_9dbe_0242ac1c0002level0_row1\" class=\"row_heading level0 row1\" >2</th>\n",
              "                        <td id=\"T_f2c0e796_fbc7_11ea_9dbe_0242ac1c0002row1_col0\" class=\"data row1 col0\" >94.38</td>\n",
              "            </tr>\n",
              "            <tr>\n",
              "                        <th id=\"T_f2c0e796_fbc7_11ea_9dbe_0242ac1c0002level0_row2\" class=\"row_heading level0 row2\" >3</th>\n",
              "                        <td id=\"T_f2c0e796_fbc7_11ea_9dbe_0242ac1c0002row2_col0\" class=\"data row2 col0\" >95.62</td>\n",
              "            </tr>\n",
              "            <tr>\n",
              "                        <th id=\"T_f2c0e796_fbc7_11ea_9dbe_0242ac1c0002level0_row3\" class=\"row_heading level0 row3\" >4</th>\n",
              "                        <td id=\"T_f2c0e796_fbc7_11ea_9dbe_0242ac1c0002row3_col0\" class=\"data row3 col0\" >94.38</td>\n",
              "            </tr>\n",
              "            <tr>\n",
              "                        <th id=\"T_f2c0e796_fbc7_11ea_9dbe_0242ac1c0002level0_row4\" class=\"row_heading level0 row4\" >5</th>\n",
              "                        <td id=\"T_f2c0e796_fbc7_11ea_9dbe_0242ac1c0002row4_col0\" class=\"data row4 col0\" >96.25</td>\n",
              "            </tr>\n",
              "            <tr>\n",
              "                        <th id=\"T_f2c0e796_fbc7_11ea_9dbe_0242ac1c0002level0_row5\" class=\"row_heading level0 row5\" >6</th>\n",
              "                        <td id=\"T_f2c0e796_fbc7_11ea_9dbe_0242ac1c0002row5_col0\" class=\"data row5 col0\" >94.38</td>\n",
              "            </tr>\n",
              "            <tr>\n",
              "                        <th id=\"T_f2c0e796_fbc7_11ea_9dbe_0242ac1c0002level0_row6\" class=\"row_heading level0 row6\" >7</th>\n",
              "                        <td id=\"T_f2c0e796_fbc7_11ea_9dbe_0242ac1c0002row6_col0\" class=\"data row6 col0\" >98.12</td>\n",
              "            </tr>\n",
              "            <tr>\n",
              "                        <th id=\"T_f2c0e796_fbc7_11ea_9dbe_0242ac1c0002level0_row7\" class=\"row_heading level0 row7\" >8</th>\n",
              "                        <td id=\"T_f2c0e796_fbc7_11ea_9dbe_0242ac1c0002row7_col0\" class=\"data row7 col0\" >95.62</td>\n",
              "            </tr>\n",
              "            <tr>\n",
              "                        <th id=\"T_f2c0e796_fbc7_11ea_9dbe_0242ac1c0002level0_row8\" class=\"row_heading level0 row8\" >9</th>\n",
              "                        <td id=\"T_f2c0e796_fbc7_11ea_9dbe_0242ac1c0002row8_col0\" class=\"data row8 col0\" >95.62</td>\n",
              "            </tr>\n",
              "            <tr>\n",
              "                        <th id=\"T_f2c0e796_fbc7_11ea_9dbe_0242ac1c0002level0_row9\" class=\"row_heading level0 row9\" >10</th>\n",
              "                        <td id=\"T_f2c0e796_fbc7_11ea_9dbe_0242ac1c0002row9_col0\" class=\"data row9 col0\" >95.62</td>\n",
              "            </tr>\n",
              "    </tbody></table>"
            ],
            "text/plain": [
              "<pandas.io.formats.style.Styler at 0x7f56727d8908>"
            ]
          },
          "metadata": {
            "tags": []
          }
        }
      ]
    },
    {
      "cell_type": "code",
      "metadata": {
        "id": "XXGID1igttPH",
        "colab_type": "code",
        "colab": {
          "base_uri": "https://localhost:8080/",
          "height": 276
        },
        "outputId": "6b09e977-fd03-4b5a-82b2-76f6438e1c14"
      },
      "source": [
        "from sklearn.pipeline import Pipeline\n",
        "from sklearn.neighbors import KNeighborsClassifier\n",
        "from sklearn.preprocessing import StandardScaler\n",
        "from sklearn.decomposition import PCA\n",
        "\n",
        "show_confusion = False\n",
        "N_neighbors    = np.arange(1, 10+1)\n",
        "N_components   = np.arange(1, q+1)\n",
        "\n",
        "df_results = pd.DataFrame(columns=['n_components', 'n_neighbors', 'acc_mean']).set_index(['n_components', 'n_neighbors'])\n",
        "for c in N_components:\n",
        "    for k in N_neighbors:\n",
        "        pipe = Pipeline([('scale'     , StandardScaler()),\n",
        "                         ('dim_reduce', PCA(n_components=c)),\n",
        "                         ('classify'  , KNeighborsClassifier(n_neighbors=k))])\n",
        "        res = run_model(X_m, y_m, pipe, show_confusion)\n",
        "        df_results.loc[(c, k), 'acc_mean'] = res['acc_mean']\n",
        "display_results(df_results.unstack(0));"
      ],
      "execution_count": null,
      "outputs": [
        {
          "output_type": "display_data",
          "data": {
            "text/html": [
              "<style  type=\"text/css\" >\n",
              "#T_f7174c2c_fbc7_11ea_9dbe_0242ac1c0002row0_col0,#T_f7174c2c_fbc7_11ea_9dbe_0242ac1c0002row0_col3,#T_f7174c2c_fbc7_11ea_9dbe_0242ac1c0002row0_col4,#T_f7174c2c_fbc7_11ea_9dbe_0242ac1c0002row0_col5,#T_f7174c2c_fbc7_11ea_9dbe_0242ac1c0002row0_col6,#T_f7174c2c_fbc7_11ea_9dbe_0242ac1c0002row0_col7,#T_f7174c2c_fbc7_11ea_9dbe_0242ac1c0002row0_col8,#T_f7174c2c_fbc7_11ea_9dbe_0242ac1c0002row0_col9,#T_f7174c2c_fbc7_11ea_9dbe_0242ac1c0002row0_col10,#T_f7174c2c_fbc7_11ea_9dbe_0242ac1c0002row0_col11,#T_f7174c2c_fbc7_11ea_9dbe_0242ac1c0002row0_col12,#T_f7174c2c_fbc7_11ea_9dbe_0242ac1c0002row1_col0,#T_f7174c2c_fbc7_11ea_9dbe_0242ac1c0002row1_col1,#T_f7174c2c_fbc7_11ea_9dbe_0242ac1c0002row1_col2,#T_f7174c2c_fbc7_11ea_9dbe_0242ac1c0002row1_col3,#T_f7174c2c_fbc7_11ea_9dbe_0242ac1c0002row1_col4,#T_f7174c2c_fbc7_11ea_9dbe_0242ac1c0002row1_col5,#T_f7174c2c_fbc7_11ea_9dbe_0242ac1c0002row1_col6,#T_f7174c2c_fbc7_11ea_9dbe_0242ac1c0002row1_col7,#T_f7174c2c_fbc7_11ea_9dbe_0242ac1c0002row1_col8,#T_f7174c2c_fbc7_11ea_9dbe_0242ac1c0002row1_col9,#T_f7174c2c_fbc7_11ea_9dbe_0242ac1c0002row1_col10,#T_f7174c2c_fbc7_11ea_9dbe_0242ac1c0002row1_col11,#T_f7174c2c_fbc7_11ea_9dbe_0242ac1c0002row1_col12,#T_f7174c2c_fbc7_11ea_9dbe_0242ac1c0002row2_col0,#T_f7174c2c_fbc7_11ea_9dbe_0242ac1c0002row2_col1,#T_f7174c2c_fbc7_11ea_9dbe_0242ac1c0002row2_col2,#T_f7174c2c_fbc7_11ea_9dbe_0242ac1c0002row2_col3,#T_f7174c2c_fbc7_11ea_9dbe_0242ac1c0002row2_col4,#T_f7174c2c_fbc7_11ea_9dbe_0242ac1c0002row2_col5,#T_f7174c2c_fbc7_11ea_9dbe_0242ac1c0002row2_col6,#T_f7174c2c_fbc7_11ea_9dbe_0242ac1c0002row2_col7,#T_f7174c2c_fbc7_11ea_9dbe_0242ac1c0002row2_col8,#T_f7174c2c_fbc7_11ea_9dbe_0242ac1c0002row2_col9,#T_f7174c2c_fbc7_11ea_9dbe_0242ac1c0002row2_col10,#T_f7174c2c_fbc7_11ea_9dbe_0242ac1c0002row2_col11,#T_f7174c2c_fbc7_11ea_9dbe_0242ac1c0002row2_col12,#T_f7174c2c_fbc7_11ea_9dbe_0242ac1c0002row3_col0,#T_f7174c2c_fbc7_11ea_9dbe_0242ac1c0002row3_col1,#T_f7174c2c_fbc7_11ea_9dbe_0242ac1c0002row3_col2,#T_f7174c2c_fbc7_11ea_9dbe_0242ac1c0002row3_col5,#T_f7174c2c_fbc7_11ea_9dbe_0242ac1c0002row3_col6,#T_f7174c2c_fbc7_11ea_9dbe_0242ac1c0002row3_col7,#T_f7174c2c_fbc7_11ea_9dbe_0242ac1c0002row3_col8,#T_f7174c2c_fbc7_11ea_9dbe_0242ac1c0002row3_col9,#T_f7174c2c_fbc7_11ea_9dbe_0242ac1c0002row3_col10,#T_f7174c2c_fbc7_11ea_9dbe_0242ac1c0002row3_col11,#T_f7174c2c_fbc7_11ea_9dbe_0242ac1c0002row3_col12,#T_f7174c2c_fbc7_11ea_9dbe_0242ac1c0002row4_col0,#T_f7174c2c_fbc7_11ea_9dbe_0242ac1c0002row4_col1,#T_f7174c2c_fbc7_11ea_9dbe_0242ac1c0002row4_col3,#T_f7174c2c_fbc7_11ea_9dbe_0242ac1c0002row4_col6,#T_f7174c2c_fbc7_11ea_9dbe_0242ac1c0002row4_col7,#T_f7174c2c_fbc7_11ea_9dbe_0242ac1c0002row4_col8,#T_f7174c2c_fbc7_11ea_9dbe_0242ac1c0002row4_col9,#T_f7174c2c_fbc7_11ea_9dbe_0242ac1c0002row4_col10,#T_f7174c2c_fbc7_11ea_9dbe_0242ac1c0002row4_col11,#T_f7174c2c_fbc7_11ea_9dbe_0242ac1c0002row4_col12,#T_f7174c2c_fbc7_11ea_9dbe_0242ac1c0002row5_col0,#T_f7174c2c_fbc7_11ea_9dbe_0242ac1c0002row5_col1,#T_f7174c2c_fbc7_11ea_9dbe_0242ac1c0002row5_col4,#T_f7174c2c_fbc7_11ea_9dbe_0242ac1c0002row5_col5,#T_f7174c2c_fbc7_11ea_9dbe_0242ac1c0002row5_col6,#T_f7174c2c_fbc7_11ea_9dbe_0242ac1c0002row5_col7,#T_f7174c2c_fbc7_11ea_9dbe_0242ac1c0002row5_col8,#T_f7174c2c_fbc7_11ea_9dbe_0242ac1c0002row5_col9,#T_f7174c2c_fbc7_11ea_9dbe_0242ac1c0002row5_col10,#T_f7174c2c_fbc7_11ea_9dbe_0242ac1c0002row5_col11,#T_f7174c2c_fbc7_11ea_9dbe_0242ac1c0002row5_col12,#T_f7174c2c_fbc7_11ea_9dbe_0242ac1c0002row6_col0,#T_f7174c2c_fbc7_11ea_9dbe_0242ac1c0002row6_col4,#T_f7174c2c_fbc7_11ea_9dbe_0242ac1c0002row6_col5,#T_f7174c2c_fbc7_11ea_9dbe_0242ac1c0002row7_col0,#T_f7174c2c_fbc7_11ea_9dbe_0242ac1c0002row7_col2,#T_f7174c2c_fbc7_11ea_9dbe_0242ac1c0002row7_col3,#T_f7174c2c_fbc7_11ea_9dbe_0242ac1c0002row7_col4,#T_f7174c2c_fbc7_11ea_9dbe_0242ac1c0002row7_col5,#T_f7174c2c_fbc7_11ea_9dbe_0242ac1c0002row7_col6,#T_f7174c2c_fbc7_11ea_9dbe_0242ac1c0002row7_col7,#T_f7174c2c_fbc7_11ea_9dbe_0242ac1c0002row7_col8,#T_f7174c2c_fbc7_11ea_9dbe_0242ac1c0002row7_col9,#T_f7174c2c_fbc7_11ea_9dbe_0242ac1c0002row7_col10,#T_f7174c2c_fbc7_11ea_9dbe_0242ac1c0002row7_col11,#T_f7174c2c_fbc7_11ea_9dbe_0242ac1c0002row7_col12,#T_f7174c2c_fbc7_11ea_9dbe_0242ac1c0002row8_col0,#T_f7174c2c_fbc7_11ea_9dbe_0242ac1c0002row8_col2,#T_f7174c2c_fbc7_11ea_9dbe_0242ac1c0002row8_col3,#T_f7174c2c_fbc7_11ea_9dbe_0242ac1c0002row8_col4,#T_f7174c2c_fbc7_11ea_9dbe_0242ac1c0002row8_col8,#T_f7174c2c_fbc7_11ea_9dbe_0242ac1c0002row8_col9,#T_f7174c2c_fbc7_11ea_9dbe_0242ac1c0002row8_col10,#T_f7174c2c_fbc7_11ea_9dbe_0242ac1c0002row8_col11,#T_f7174c2c_fbc7_11ea_9dbe_0242ac1c0002row8_col12,#T_f7174c2c_fbc7_11ea_9dbe_0242ac1c0002row9_col3,#T_f7174c2c_fbc7_11ea_9dbe_0242ac1c0002row9_col4,#T_f7174c2c_fbc7_11ea_9dbe_0242ac1c0002row9_col5,#T_f7174c2c_fbc7_11ea_9dbe_0242ac1c0002row9_col8,#T_f7174c2c_fbc7_11ea_9dbe_0242ac1c0002row9_col9,#T_f7174c2c_fbc7_11ea_9dbe_0242ac1c0002row9_col10,#T_f7174c2c_fbc7_11ea_9dbe_0242ac1c0002row9_col11,#T_f7174c2c_fbc7_11ea_9dbe_0242ac1c0002row9_col12{\n",
              "            text-align:  center;\n",
              "            border-width:  thin;\n",
              "            border-style:  dotted;\n",
              "        }#T_f7174c2c_fbc7_11ea_9dbe_0242ac1c0002row0_col1,#T_f7174c2c_fbc7_11ea_9dbe_0242ac1c0002row0_col2,#T_f7174c2c_fbc7_11ea_9dbe_0242ac1c0002row3_col3,#T_f7174c2c_fbc7_11ea_9dbe_0242ac1c0002row3_col4,#T_f7174c2c_fbc7_11ea_9dbe_0242ac1c0002row4_col2,#T_f7174c2c_fbc7_11ea_9dbe_0242ac1c0002row4_col4,#T_f7174c2c_fbc7_11ea_9dbe_0242ac1c0002row4_col5,#T_f7174c2c_fbc7_11ea_9dbe_0242ac1c0002row5_col2,#T_f7174c2c_fbc7_11ea_9dbe_0242ac1c0002row5_col3,#T_f7174c2c_fbc7_11ea_9dbe_0242ac1c0002row6_col1,#T_f7174c2c_fbc7_11ea_9dbe_0242ac1c0002row6_col2,#T_f7174c2c_fbc7_11ea_9dbe_0242ac1c0002row6_col3,#T_f7174c2c_fbc7_11ea_9dbe_0242ac1c0002row6_col6,#T_f7174c2c_fbc7_11ea_9dbe_0242ac1c0002row6_col7,#T_f7174c2c_fbc7_11ea_9dbe_0242ac1c0002row6_col8,#T_f7174c2c_fbc7_11ea_9dbe_0242ac1c0002row6_col9,#T_f7174c2c_fbc7_11ea_9dbe_0242ac1c0002row6_col10,#T_f7174c2c_fbc7_11ea_9dbe_0242ac1c0002row6_col11,#T_f7174c2c_fbc7_11ea_9dbe_0242ac1c0002row6_col12,#T_f7174c2c_fbc7_11ea_9dbe_0242ac1c0002row7_col1,#T_f7174c2c_fbc7_11ea_9dbe_0242ac1c0002row8_col1,#T_f7174c2c_fbc7_11ea_9dbe_0242ac1c0002row8_col5,#T_f7174c2c_fbc7_11ea_9dbe_0242ac1c0002row8_col6,#T_f7174c2c_fbc7_11ea_9dbe_0242ac1c0002row8_col7,#T_f7174c2c_fbc7_11ea_9dbe_0242ac1c0002row9_col0,#T_f7174c2c_fbc7_11ea_9dbe_0242ac1c0002row9_col1,#T_f7174c2c_fbc7_11ea_9dbe_0242ac1c0002row9_col2,#T_f7174c2c_fbc7_11ea_9dbe_0242ac1c0002row9_col6,#T_f7174c2c_fbc7_11ea_9dbe_0242ac1c0002row9_col7{\n",
              "            background-color:  yellow;\n",
              "            text-align:  center;\n",
              "            border-width:  thin;\n",
              "            border-style:  dotted;\n",
              "        }</style><table id=\"T_f7174c2c_fbc7_11ea_9dbe_0242ac1c0002\" style=\"border-collapse:collapse\"><thead>    <tr>        <th class=\"blank level0\" ></th>        <th class=\"col_heading level0 col0\" colspan=13>acc_mean</th>    </tr>    <tr>        <th class=\"index_name level1\" >n_components</th>        <th class=\"col_heading level1 col0\" >1</th>        <th class=\"col_heading level1 col1\" >2</th>        <th class=\"col_heading level1 col2\" >3</th>        <th class=\"col_heading level1 col3\" >4</th>        <th class=\"col_heading level1 col4\" >5</th>        <th class=\"col_heading level1 col5\" >6</th>        <th class=\"col_heading level1 col6\" >7</th>        <th class=\"col_heading level1 col7\" >8</th>        <th class=\"col_heading level1 col8\" >9</th>        <th class=\"col_heading level1 col9\" >10</th>        <th class=\"col_heading level1 col10\" >11</th>        <th class=\"col_heading level1 col11\" >12</th>        <th class=\"col_heading level1 col12\" >13</th>    </tr>    <tr>        <th class=\"index_name level0\" >n_neighbors</th>        <th class=\"blank\" ></th>        <th class=\"blank\" ></th>        <th class=\"blank\" ></th>        <th class=\"blank\" ></th>        <th class=\"blank\" ></th>        <th class=\"blank\" ></th>        <th class=\"blank\" ></th>        <th class=\"blank\" ></th>        <th class=\"blank\" ></th>        <th class=\"blank\" ></th>        <th class=\"blank\" ></th>        <th class=\"blank\" ></th>        <th class=\"blank\" ></th>    </tr></thead><tbody>\n",
              "                <tr>\n",
              "                        <th id=\"T_f7174c2c_fbc7_11ea_9dbe_0242ac1c0002level0_row0\" class=\"row_heading level0 row0\" >1</th>\n",
              "                        <td id=\"T_f7174c2c_fbc7_11ea_9dbe_0242ac1c0002row0_col0\" class=\"data row0 col0\" >79.38</td>\n",
              "                        <td id=\"T_f7174c2c_fbc7_11ea_9dbe_0242ac1c0002row0_col1\" class=\"data row0 col1\" >97.50</td>\n",
              "                        <td id=\"T_f7174c2c_fbc7_11ea_9dbe_0242ac1c0002row0_col2\" class=\"data row0 col2\" >96.88</td>\n",
              "                        <td id=\"T_f7174c2c_fbc7_11ea_9dbe_0242ac1c0002row0_col3\" class=\"data row0 col3\" >95.00</td>\n",
              "                        <td id=\"T_f7174c2c_fbc7_11ea_9dbe_0242ac1c0002row0_col4\" class=\"data row0 col4\" >95.62</td>\n",
              "                        <td id=\"T_f7174c2c_fbc7_11ea_9dbe_0242ac1c0002row0_col5\" class=\"data row0 col5\" >96.25</td>\n",
              "                        <td id=\"T_f7174c2c_fbc7_11ea_9dbe_0242ac1c0002row0_col6\" class=\"data row0 col6\" >95.00</td>\n",
              "                        <td id=\"T_f7174c2c_fbc7_11ea_9dbe_0242ac1c0002row0_col7\" class=\"data row0 col7\" >94.38</td>\n",
              "                        <td id=\"T_f7174c2c_fbc7_11ea_9dbe_0242ac1c0002row0_col8\" class=\"data row0 col8\" >94.38</td>\n",
              "                        <td id=\"T_f7174c2c_fbc7_11ea_9dbe_0242ac1c0002row0_col9\" class=\"data row0 col9\" >95.00</td>\n",
              "                        <td id=\"T_f7174c2c_fbc7_11ea_9dbe_0242ac1c0002row0_col10\" class=\"data row0 col10\" >94.38</td>\n",
              "                        <td id=\"T_f7174c2c_fbc7_11ea_9dbe_0242ac1c0002row0_col11\" class=\"data row0 col11\" >95.62</td>\n",
              "                        <td id=\"T_f7174c2c_fbc7_11ea_9dbe_0242ac1c0002row0_col12\" class=\"data row0 col12\" >95.00</td>\n",
              "            </tr>\n",
              "            <tr>\n",
              "                        <th id=\"T_f7174c2c_fbc7_11ea_9dbe_0242ac1c0002level0_row1\" class=\"row_heading level0 row1\" >2</th>\n",
              "                        <td id=\"T_f7174c2c_fbc7_11ea_9dbe_0242ac1c0002row1_col0\" class=\"data row1 col0\" >83.12</td>\n",
              "                        <td id=\"T_f7174c2c_fbc7_11ea_9dbe_0242ac1c0002row1_col1\" class=\"data row1 col1\" >96.25</td>\n",
              "                        <td id=\"T_f7174c2c_fbc7_11ea_9dbe_0242ac1c0002row1_col2\" class=\"data row1 col2\" >95.00</td>\n",
              "                        <td id=\"T_f7174c2c_fbc7_11ea_9dbe_0242ac1c0002row1_col3\" class=\"data row1 col3\" >95.00</td>\n",
              "                        <td id=\"T_f7174c2c_fbc7_11ea_9dbe_0242ac1c0002row1_col4\" class=\"data row1 col4\" >95.00</td>\n",
              "                        <td id=\"T_f7174c2c_fbc7_11ea_9dbe_0242ac1c0002row1_col5\" class=\"data row1 col5\" >95.62</td>\n",
              "                        <td id=\"T_f7174c2c_fbc7_11ea_9dbe_0242ac1c0002row1_col6\" class=\"data row1 col6\" >93.75</td>\n",
              "                        <td id=\"T_f7174c2c_fbc7_11ea_9dbe_0242ac1c0002row1_col7\" class=\"data row1 col7\" >93.12</td>\n",
              "                        <td id=\"T_f7174c2c_fbc7_11ea_9dbe_0242ac1c0002row1_col8\" class=\"data row1 col8\" >94.38</td>\n",
              "                        <td id=\"T_f7174c2c_fbc7_11ea_9dbe_0242ac1c0002row1_col9\" class=\"data row1 col9\" >95.62</td>\n",
              "                        <td id=\"T_f7174c2c_fbc7_11ea_9dbe_0242ac1c0002row1_col10\" class=\"data row1 col10\" >94.38</td>\n",
              "                        <td id=\"T_f7174c2c_fbc7_11ea_9dbe_0242ac1c0002row1_col11\" class=\"data row1 col11\" >95.00</td>\n",
              "                        <td id=\"T_f7174c2c_fbc7_11ea_9dbe_0242ac1c0002row1_col12\" class=\"data row1 col12\" >94.38</td>\n",
              "            </tr>\n",
              "            <tr>\n",
              "                        <th id=\"T_f7174c2c_fbc7_11ea_9dbe_0242ac1c0002level0_row2\" class=\"row_heading level0 row2\" >3</th>\n",
              "                        <td id=\"T_f7174c2c_fbc7_11ea_9dbe_0242ac1c0002row2_col0\" class=\"data row2 col0\" >82.50</td>\n",
              "                        <td id=\"T_f7174c2c_fbc7_11ea_9dbe_0242ac1c0002row2_col1\" class=\"data row2 col1\" >96.25</td>\n",
              "                        <td id=\"T_f7174c2c_fbc7_11ea_9dbe_0242ac1c0002row2_col2\" class=\"data row2 col2\" >96.25</td>\n",
              "                        <td id=\"T_f7174c2c_fbc7_11ea_9dbe_0242ac1c0002row2_col3\" class=\"data row2 col3\" >95.00</td>\n",
              "                        <td id=\"T_f7174c2c_fbc7_11ea_9dbe_0242ac1c0002row2_col4\" class=\"data row2 col4\" >96.25</td>\n",
              "                        <td id=\"T_f7174c2c_fbc7_11ea_9dbe_0242ac1c0002row2_col5\" class=\"data row2 col5\" >95.62</td>\n",
              "                        <td id=\"T_f7174c2c_fbc7_11ea_9dbe_0242ac1c0002row2_col6\" class=\"data row2 col6\" >94.38</td>\n",
              "                        <td id=\"T_f7174c2c_fbc7_11ea_9dbe_0242ac1c0002row2_col7\" class=\"data row2 col7\" >96.25</td>\n",
              "                        <td id=\"T_f7174c2c_fbc7_11ea_9dbe_0242ac1c0002row2_col8\" class=\"data row2 col8\" >95.62</td>\n",
              "                        <td id=\"T_f7174c2c_fbc7_11ea_9dbe_0242ac1c0002row2_col9\" class=\"data row2 col9\" >95.00</td>\n",
              "                        <td id=\"T_f7174c2c_fbc7_11ea_9dbe_0242ac1c0002row2_col10\" class=\"data row2 col10\" >95.00</td>\n",
              "                        <td id=\"T_f7174c2c_fbc7_11ea_9dbe_0242ac1c0002row2_col11\" class=\"data row2 col11\" >95.62</td>\n",
              "                        <td id=\"T_f7174c2c_fbc7_11ea_9dbe_0242ac1c0002row2_col12\" class=\"data row2 col12\" >95.62</td>\n",
              "            </tr>\n",
              "            <tr>\n",
              "                        <th id=\"T_f7174c2c_fbc7_11ea_9dbe_0242ac1c0002level0_row3\" class=\"row_heading level0 row3\" >4</th>\n",
              "                        <td id=\"T_f7174c2c_fbc7_11ea_9dbe_0242ac1c0002row3_col0\" class=\"data row3 col0\" >83.12</td>\n",
              "                        <td id=\"T_f7174c2c_fbc7_11ea_9dbe_0242ac1c0002row3_col1\" class=\"data row3 col1\" >96.88</td>\n",
              "                        <td id=\"T_f7174c2c_fbc7_11ea_9dbe_0242ac1c0002row3_col2\" class=\"data row3 col2\" >96.25</td>\n",
              "                        <td id=\"T_f7174c2c_fbc7_11ea_9dbe_0242ac1c0002row3_col3\" class=\"data row3 col3\" >96.25</td>\n",
              "                        <td id=\"T_f7174c2c_fbc7_11ea_9dbe_0242ac1c0002row3_col4\" class=\"data row3 col4\" >96.88</td>\n",
              "                        <td id=\"T_f7174c2c_fbc7_11ea_9dbe_0242ac1c0002row3_col5\" class=\"data row3 col5\" >95.00</td>\n",
              "                        <td id=\"T_f7174c2c_fbc7_11ea_9dbe_0242ac1c0002row3_col6\" class=\"data row3 col6\" >94.38</td>\n",
              "                        <td id=\"T_f7174c2c_fbc7_11ea_9dbe_0242ac1c0002row3_col7\" class=\"data row3 col7\" >95.62</td>\n",
              "                        <td id=\"T_f7174c2c_fbc7_11ea_9dbe_0242ac1c0002row3_col8\" class=\"data row3 col8\" >95.00</td>\n",
              "                        <td id=\"T_f7174c2c_fbc7_11ea_9dbe_0242ac1c0002row3_col9\" class=\"data row3 col9\" >95.00</td>\n",
              "                        <td id=\"T_f7174c2c_fbc7_11ea_9dbe_0242ac1c0002row3_col10\" class=\"data row3 col10\" >93.75</td>\n",
              "                        <td id=\"T_f7174c2c_fbc7_11ea_9dbe_0242ac1c0002row3_col11\" class=\"data row3 col11\" >94.38</td>\n",
              "                        <td id=\"T_f7174c2c_fbc7_11ea_9dbe_0242ac1c0002row3_col12\" class=\"data row3 col12\" >94.38</td>\n",
              "            </tr>\n",
              "            <tr>\n",
              "                        <th id=\"T_f7174c2c_fbc7_11ea_9dbe_0242ac1c0002level0_row4\" class=\"row_heading level0 row4\" >5</th>\n",
              "                        <td id=\"T_f7174c2c_fbc7_11ea_9dbe_0242ac1c0002row4_col0\" class=\"data row4 col0\" >84.38</td>\n",
              "                        <td id=\"T_f7174c2c_fbc7_11ea_9dbe_0242ac1c0002row4_col1\" class=\"data row4 col1\" >96.88</td>\n",
              "                        <td id=\"T_f7174c2c_fbc7_11ea_9dbe_0242ac1c0002row4_col2\" class=\"data row4 col2\" >96.88</td>\n",
              "                        <td id=\"T_f7174c2c_fbc7_11ea_9dbe_0242ac1c0002row4_col3\" class=\"data row4 col3\" >95.62</td>\n",
              "                        <td id=\"T_f7174c2c_fbc7_11ea_9dbe_0242ac1c0002row4_col4\" class=\"data row4 col4\" >96.88</td>\n",
              "                        <td id=\"T_f7174c2c_fbc7_11ea_9dbe_0242ac1c0002row4_col5\" class=\"data row4 col5\" >97.50</td>\n",
              "                        <td id=\"T_f7174c2c_fbc7_11ea_9dbe_0242ac1c0002row4_col6\" class=\"data row4 col6\" >96.25</td>\n",
              "                        <td id=\"T_f7174c2c_fbc7_11ea_9dbe_0242ac1c0002row4_col7\" class=\"data row4 col7\" >95.00</td>\n",
              "                        <td id=\"T_f7174c2c_fbc7_11ea_9dbe_0242ac1c0002row4_col8\" class=\"data row4 col8\" >96.25</td>\n",
              "                        <td id=\"T_f7174c2c_fbc7_11ea_9dbe_0242ac1c0002row4_col9\" class=\"data row4 col9\" >96.25</td>\n",
              "                        <td id=\"T_f7174c2c_fbc7_11ea_9dbe_0242ac1c0002row4_col10\" class=\"data row4 col10\" >96.25</td>\n",
              "                        <td id=\"T_f7174c2c_fbc7_11ea_9dbe_0242ac1c0002row4_col11\" class=\"data row4 col11\" >96.25</td>\n",
              "                        <td id=\"T_f7174c2c_fbc7_11ea_9dbe_0242ac1c0002row4_col12\" class=\"data row4 col12\" >96.25</td>\n",
              "            </tr>\n",
              "            <tr>\n",
              "                        <th id=\"T_f7174c2c_fbc7_11ea_9dbe_0242ac1c0002level0_row5\" class=\"row_heading level0 row5\" >6</th>\n",
              "                        <td id=\"T_f7174c2c_fbc7_11ea_9dbe_0242ac1c0002row5_col0\" class=\"data row5 col0\" >84.38</td>\n",
              "                        <td id=\"T_f7174c2c_fbc7_11ea_9dbe_0242ac1c0002row5_col1\" class=\"data row5 col1\" >96.25</td>\n",
              "                        <td id=\"T_f7174c2c_fbc7_11ea_9dbe_0242ac1c0002row5_col2\" class=\"data row5 col2\" >96.88</td>\n",
              "                        <td id=\"T_f7174c2c_fbc7_11ea_9dbe_0242ac1c0002row5_col3\" class=\"data row5 col3\" >96.25</td>\n",
              "                        <td id=\"T_f7174c2c_fbc7_11ea_9dbe_0242ac1c0002row5_col4\" class=\"data row5 col4\" >96.25</td>\n",
              "                        <td id=\"T_f7174c2c_fbc7_11ea_9dbe_0242ac1c0002row5_col5\" class=\"data row5 col5\" >96.25</td>\n",
              "                        <td id=\"T_f7174c2c_fbc7_11ea_9dbe_0242ac1c0002row5_col6\" class=\"data row5 col6\" >95.00</td>\n",
              "                        <td id=\"T_f7174c2c_fbc7_11ea_9dbe_0242ac1c0002row5_col7\" class=\"data row5 col7\" >95.62</td>\n",
              "                        <td id=\"T_f7174c2c_fbc7_11ea_9dbe_0242ac1c0002row5_col8\" class=\"data row5 col8\" >95.62</td>\n",
              "                        <td id=\"T_f7174c2c_fbc7_11ea_9dbe_0242ac1c0002row5_col9\" class=\"data row5 col9\" >95.62</td>\n",
              "                        <td id=\"T_f7174c2c_fbc7_11ea_9dbe_0242ac1c0002row5_col10\" class=\"data row5 col10\" >95.62</td>\n",
              "                        <td id=\"T_f7174c2c_fbc7_11ea_9dbe_0242ac1c0002row5_col11\" class=\"data row5 col11\" >95.00</td>\n",
              "                        <td id=\"T_f7174c2c_fbc7_11ea_9dbe_0242ac1c0002row5_col12\" class=\"data row5 col12\" >94.38</td>\n",
              "            </tr>\n",
              "            <tr>\n",
              "                        <th id=\"T_f7174c2c_fbc7_11ea_9dbe_0242ac1c0002level0_row6\" class=\"row_heading level0 row6\" >7</th>\n",
              "                        <td id=\"T_f7174c2c_fbc7_11ea_9dbe_0242ac1c0002row6_col0\" class=\"data row6 col0\" >84.38</td>\n",
              "                        <td id=\"T_f7174c2c_fbc7_11ea_9dbe_0242ac1c0002row6_col1\" class=\"data row6 col1\" >97.50</td>\n",
              "                        <td id=\"T_f7174c2c_fbc7_11ea_9dbe_0242ac1c0002row6_col2\" class=\"data row6 col2\" >96.88</td>\n",
              "                        <td id=\"T_f7174c2c_fbc7_11ea_9dbe_0242ac1c0002row6_col3\" class=\"data row6 col3\" >96.25</td>\n",
              "                        <td id=\"T_f7174c2c_fbc7_11ea_9dbe_0242ac1c0002row6_col4\" class=\"data row6 col4\" >96.25</td>\n",
              "                        <td id=\"T_f7174c2c_fbc7_11ea_9dbe_0242ac1c0002row6_col5\" class=\"data row6 col5\" >96.88</td>\n",
              "                        <td id=\"T_f7174c2c_fbc7_11ea_9dbe_0242ac1c0002row6_col6\" class=\"data row6 col6\" >96.88</td>\n",
              "                        <td id=\"T_f7174c2c_fbc7_11ea_9dbe_0242ac1c0002row6_col7\" class=\"data row6 col7\" >97.50</td>\n",
              "                        <td id=\"T_f7174c2c_fbc7_11ea_9dbe_0242ac1c0002row6_col8\" class=\"data row6 col8\" >97.50</td>\n",
              "                        <td id=\"T_f7174c2c_fbc7_11ea_9dbe_0242ac1c0002row6_col9\" class=\"data row6 col9\" >97.50</td>\n",
              "                        <td id=\"T_f7174c2c_fbc7_11ea_9dbe_0242ac1c0002row6_col10\" class=\"data row6 col10\" >97.50</td>\n",
              "                        <td id=\"T_f7174c2c_fbc7_11ea_9dbe_0242ac1c0002row6_col11\" class=\"data row6 col11\" >96.88</td>\n",
              "                        <td id=\"T_f7174c2c_fbc7_11ea_9dbe_0242ac1c0002row6_col12\" class=\"data row6 col12\" >98.12</td>\n",
              "            </tr>\n",
              "            <tr>\n",
              "                        <th id=\"T_f7174c2c_fbc7_11ea_9dbe_0242ac1c0002level0_row7\" class=\"row_heading level0 row7\" >8</th>\n",
              "                        <td id=\"T_f7174c2c_fbc7_11ea_9dbe_0242ac1c0002row7_col0\" class=\"data row7 col0\" >84.38</td>\n",
              "                        <td id=\"T_f7174c2c_fbc7_11ea_9dbe_0242ac1c0002row7_col1\" class=\"data row7 col1\" >97.50</td>\n",
              "                        <td id=\"T_f7174c2c_fbc7_11ea_9dbe_0242ac1c0002row7_col2\" class=\"data row7 col2\" >96.25</td>\n",
              "                        <td id=\"T_f7174c2c_fbc7_11ea_9dbe_0242ac1c0002row7_col3\" class=\"data row7 col3\" >94.38</td>\n",
              "                        <td id=\"T_f7174c2c_fbc7_11ea_9dbe_0242ac1c0002row7_col4\" class=\"data row7 col4\" >95.62</td>\n",
              "                        <td id=\"T_f7174c2c_fbc7_11ea_9dbe_0242ac1c0002row7_col5\" class=\"data row7 col5\" >96.88</td>\n",
              "                        <td id=\"T_f7174c2c_fbc7_11ea_9dbe_0242ac1c0002row7_col6\" class=\"data row7 col6\" >96.25</td>\n",
              "                        <td id=\"T_f7174c2c_fbc7_11ea_9dbe_0242ac1c0002row7_col7\" class=\"data row7 col7\" >95.62</td>\n",
              "                        <td id=\"T_f7174c2c_fbc7_11ea_9dbe_0242ac1c0002row7_col8\" class=\"data row7 col8\" >96.25</td>\n",
              "                        <td id=\"T_f7174c2c_fbc7_11ea_9dbe_0242ac1c0002row7_col9\" class=\"data row7 col9\" >96.25</td>\n",
              "                        <td id=\"T_f7174c2c_fbc7_11ea_9dbe_0242ac1c0002row7_col10\" class=\"data row7 col10\" >95.62</td>\n",
              "                        <td id=\"T_f7174c2c_fbc7_11ea_9dbe_0242ac1c0002row7_col11\" class=\"data row7 col11\" >95.00</td>\n",
              "                        <td id=\"T_f7174c2c_fbc7_11ea_9dbe_0242ac1c0002row7_col12\" class=\"data row7 col12\" >95.62</td>\n",
              "            </tr>\n",
              "            <tr>\n",
              "                        <th id=\"T_f7174c2c_fbc7_11ea_9dbe_0242ac1c0002level0_row8\" class=\"row_heading level0 row8\" >9</th>\n",
              "                        <td id=\"T_f7174c2c_fbc7_11ea_9dbe_0242ac1c0002row8_col0\" class=\"data row8 col0\" >82.50</td>\n",
              "                        <td id=\"T_f7174c2c_fbc7_11ea_9dbe_0242ac1c0002row8_col1\" class=\"data row8 col1\" >97.50</td>\n",
              "                        <td id=\"T_f7174c2c_fbc7_11ea_9dbe_0242ac1c0002row8_col2\" class=\"data row8 col2\" >95.00</td>\n",
              "                        <td id=\"T_f7174c2c_fbc7_11ea_9dbe_0242ac1c0002row8_col3\" class=\"data row8 col3\" >95.62</td>\n",
              "                        <td id=\"T_f7174c2c_fbc7_11ea_9dbe_0242ac1c0002row8_col4\" class=\"data row8 col4\" >96.25</td>\n",
              "                        <td id=\"T_f7174c2c_fbc7_11ea_9dbe_0242ac1c0002row8_col5\" class=\"data row8 col5\" >97.50</td>\n",
              "                        <td id=\"T_f7174c2c_fbc7_11ea_9dbe_0242ac1c0002row8_col6\" class=\"data row8 col6\" >96.88</td>\n",
              "                        <td id=\"T_f7174c2c_fbc7_11ea_9dbe_0242ac1c0002row8_col7\" class=\"data row8 col7\" >97.50</td>\n",
              "                        <td id=\"T_f7174c2c_fbc7_11ea_9dbe_0242ac1c0002row8_col8\" class=\"data row8 col8\" >96.88</td>\n",
              "                        <td id=\"T_f7174c2c_fbc7_11ea_9dbe_0242ac1c0002row8_col9\" class=\"data row8 col9\" >96.88</td>\n",
              "                        <td id=\"T_f7174c2c_fbc7_11ea_9dbe_0242ac1c0002row8_col10\" class=\"data row8 col10\" >95.62</td>\n",
              "                        <td id=\"T_f7174c2c_fbc7_11ea_9dbe_0242ac1c0002row8_col11\" class=\"data row8 col11\" >96.25</td>\n",
              "                        <td id=\"T_f7174c2c_fbc7_11ea_9dbe_0242ac1c0002row8_col12\" class=\"data row8 col12\" >95.62</td>\n",
              "            </tr>\n",
              "            <tr>\n",
              "                        <th id=\"T_f7174c2c_fbc7_11ea_9dbe_0242ac1c0002level0_row9\" class=\"row_heading level0 row9\" >10</th>\n",
              "                        <td id=\"T_f7174c2c_fbc7_11ea_9dbe_0242ac1c0002row9_col0\" class=\"data row9 col0\" >85.62</td>\n",
              "                        <td id=\"T_f7174c2c_fbc7_11ea_9dbe_0242ac1c0002row9_col1\" class=\"data row9 col1\" >97.50</td>\n",
              "                        <td id=\"T_f7174c2c_fbc7_11ea_9dbe_0242ac1c0002row9_col2\" class=\"data row9 col2\" >96.88</td>\n",
              "                        <td id=\"T_f7174c2c_fbc7_11ea_9dbe_0242ac1c0002row9_col3\" class=\"data row9 col3\" >95.62</td>\n",
              "                        <td id=\"T_f7174c2c_fbc7_11ea_9dbe_0242ac1c0002row9_col4\" class=\"data row9 col4\" >94.38</td>\n",
              "                        <td id=\"T_f7174c2c_fbc7_11ea_9dbe_0242ac1c0002row9_col5\" class=\"data row9 col5\" >96.25</td>\n",
              "                        <td id=\"T_f7174c2c_fbc7_11ea_9dbe_0242ac1c0002row9_col6\" class=\"data row9 col6\" >96.88</td>\n",
              "                        <td id=\"T_f7174c2c_fbc7_11ea_9dbe_0242ac1c0002row9_col7\" class=\"data row9 col7\" >97.50</td>\n",
              "                        <td id=\"T_f7174c2c_fbc7_11ea_9dbe_0242ac1c0002row9_col8\" class=\"data row9 col8\" >96.88</td>\n",
              "                        <td id=\"T_f7174c2c_fbc7_11ea_9dbe_0242ac1c0002row9_col9\" class=\"data row9 col9\" >96.25</td>\n",
              "                        <td id=\"T_f7174c2c_fbc7_11ea_9dbe_0242ac1c0002row9_col10\" class=\"data row9 col10\" >94.38</td>\n",
              "                        <td id=\"T_f7174c2c_fbc7_11ea_9dbe_0242ac1c0002row9_col11\" class=\"data row9 col11\" >96.25</td>\n",
              "                        <td id=\"T_f7174c2c_fbc7_11ea_9dbe_0242ac1c0002row9_col12\" class=\"data row9 col12\" >95.62</td>\n",
              "            </tr>\n",
              "    </tbody></table>"
            ],
            "text/plain": [
              "<pandas.io.formats.style.Styler at 0x7f56728216a0>"
            ]
          },
          "metadata": {
            "tags": []
          }
        }
      ]
    }
  ]
}