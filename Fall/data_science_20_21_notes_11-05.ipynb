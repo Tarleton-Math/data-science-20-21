{
 "cells": [
  {
   "cell_type": "markdown",
   "metadata": {},
   "source": [
    "# Random Forests and Successors; Support Vector Machines\n",
    "## Class Notes 2020-11-05\n",
    "## Data Science (masters)\n",
    "## Math 5364 & 5366, Fall 20 & Spring 21\n",
    "### Tarleton State University\n",
    "#### Dr. Scott Cook"
   ]
  },
  {
   "cell_type": "markdown",
   "metadata": {},
   "source": [
    "We spent considerable time learning and writing code to produce interactive visualizations to see the performance of classifiers and regressors (at least when the number of features is small enough).  This also allowed us to explore the Holoview and Xarray python packages.  We also learned how to write our own classes so we can take advantage of python's object-oriented capabilities."
   ]
  },
  {
   "cell_type": "markdown",
   "metadata": {},
   "source": [
    "In hwk 6, we meet Random Forests and Support Vector Machines."
   ]
  },
  {
   "cell_type": "markdown",
   "metadata": {},
   "source": [
    "A [Random Forest](https://scikit-learn.org/stable/modules/ensemble.html) is an ensemble of Decision Trees.  We've seen very clearly that decision trees are very likely to badly overfit (high variance).  One way we can cna fight this is by using a bunch of them in tandem.  Loosely speaking, each tree will overfit in a different way and these \"errors\" tend to offset when we use a bunch of them.  Again, this is the Wisdom of the Crowd in action."
   ]
  },
  {
   "cell_type": "markdown",
   "metadata": {},
   "source": [
    "As with most things in data science, this basic idea has evolved through many generations of improvements.  The one Scikit-learn uses goes back to Breiman ~2000.  Let's read about it in the [Scikit-learn docs](https://scikit-learn.org/stable/modules/ensemble.html)."
   ]
  },
  {
   "cell_type": "markdown",
   "metadata": {},
   "source": [
    "Today, there are many improved versions:\n",
    "- [XGBoost](https://xgboost.readthedocs.io/en/latest/tutorials/model.html)\n",
    "- [Catboost](https://catboost.ai/)\n",
    "- [LightGBM](https://lightgbm.readthedocs.io/en/latest/)\n",
    "- [Compare them](https://towardsdatascience.com/catboost-vs-light-gbm-vs-xgboost-5f93620723db)\n",
    "\n",
    "Many of these improvement aren't mean to increase the accuracy.  They are meant to fight overfitting and reduce computation time."
   ]
  },
  {
   "cell_type": "markdown",
   "metadata": {},
   "source": [
    "Now, on the Support Vector Machines.  I will post handwritten notes for this part."
   ]
  }
 ],
 "metadata": {
  "kernelspec": {
   "display_name": "Python 3",
   "language": "python",
   "name": "python3"
  },
  "language_info": {
   "codemirror_mode": {
    "name": "ipython",
    "version": 3
   },
   "file_extension": ".py",
   "mimetype": "text/x-python",
   "name": "python",
   "nbconvert_exporter": "python",
   "pygments_lexer": "ipython3",
   "version": "3.8.5"
  }
 },
 "nbformat": 4,
 "nbformat_minor": 4
}
