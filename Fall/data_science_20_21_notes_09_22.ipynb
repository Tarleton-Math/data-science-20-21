{
  "nbformat": 4,
  "nbformat_minor": 0,
  "metadata": {
    "colab": {
      "name": "data-science-20-21-notes-09-22.ipynb",
      "provenance": [],
      "collapsed_sections": [],
      "authorship_tag": "ABX9TyONPhgEROdDTlle4q18DhDk",
      "include_colab_link": true
    },
    "kernelspec": {
      "name": "python3",
      "display_name": "Python 3"
    }
  },
  "cells": [
    {
      "cell_type": "markdown",
      "metadata": {
        "id": "view-in-github",
        "colab_type": "text"
      },
      "source": [
        "<a href=\"https://colab.research.google.com/github/Tarleton-Math/data-science-20-21/blob/master/data_science_20_21_notes_09_22.ipynb\" target=\"_parent\"><img src=\"https://colab.research.google.com/assets/colab-badge.svg\" alt=\"Open In Colab\"/></a>"
      ]
    },
    {
      "cell_type": "markdown",
      "metadata": {
        "id": "PVzLtTMqcwL0",
        "colab_type": "text"
      },
      "source": [
        "#  Intro to Sci-Kit Learn and Model Evaluation\n",
        "## Class Notes 2020-09-22\n",
        "## Data Science (masters)\n",
        "## Math 5364 & 5366, Fall 20 & Spring 21\n",
        "## Tarleton State University\n",
        "## Dr. Scott Cook"
      ]
    },
    {
      "cell_type": "code",
      "metadata": {
        "id": "Yld9hSTzWIWC",
        "colab_type": "code",
        "colab": {
          "base_uri": "https://localhost:8080/",
          "height": 148
        },
        "outputId": "c18ac427-769d-4afc-9251-9c2950b93eec"
      },
      "source": [
        "! pip install --upgrade numpy\n",
        "! pip install --upgrade pandas"
      ],
      "execution_count": 1,
      "outputs": [
        {
          "output_type": "stream",
          "text": [
            "Requirement already up-to-date: numpy in /usr/local/lib/python3.6/dist-packages (1.19.2)\n",
            "Requirement already up-to-date: pandas in /usr/local/lib/python3.6/dist-packages (1.1.2)\n",
            "Requirement already satisfied, skipping upgrade: pytz>=2017.2 in /usr/local/lib/python3.6/dist-packages (from pandas) (2018.9)\n",
            "Requirement already satisfied, skipping upgrade: numpy>=1.15.4 in /usr/local/lib/python3.6/dist-packages (from pandas) (1.19.2)\n",
            "Requirement already satisfied, skipping upgrade: python-dateutil>=2.7.3 in /usr/local/lib/python3.6/dist-packages (from pandas) (2.8.1)\n",
            "Requirement already satisfied, skipping upgrade: six>=1.5 in /usr/local/lib/python3.6/dist-packages (from python-dateutil>=2.7.3->pandas) (1.15.0)\n"
          ],
          "name": "stdout"
        }
      ]
    },
    {
      "cell_type": "markdown",
      "metadata": {
        "id": "KwaCEsNidItO",
        "colab_type": "text"
      },
      "source": [
        "We've written cross-validation and knn code by hand to strengthen our python skills.  But, let's face it - this is a lot of work.  And these are some of the simpler algorithms.\n",
        "\n",
        "Scikit-learn offers a TON of pre-built data science algorithms that are both easier to use and much more powerful.  Let's start taking advantage of them."
      ]
    },
    {
      "cell_type": "markdown",
      "metadata": {
        "id": "5OFvB9SXesoz",
        "colab_type": "text"
      },
      "source": [
        "First, meet \"StratifiedKFold\" and \"StratifiedShuffleSplit\".\n",
        "\n",
        "- def: A cross-validation algorithm is *stratified* if it tried to ensure that all classes of the target variable are proportionately represented in each split.\n",
        "    - Ex: Suppose we're working with the [Wisconsin breast cancer dataset](https://scikit-learn.org/stable/modules/generated/sklearn.datasets.load_breast_cancer.html) of biopsy result of 212 (37%) malignant and 357 (63%) benign breast tumors.  We want each split to have about the some proportions of malignant and benign obervations.\n",
        "    - The cv techniques from prior notes do not intentionally do this.  But these \"statified\" versions so.\n",
        "\n",
        "- *StratifiedKFold* is a stratified version of $k$-fold\n",
        "- *StratifiedShuffleSplit* is a stratified version of \"ShuffleSplit\".\n",
        "    - sklearn's \"ShuffleSplit\" is almost identical to delete-$d$, except it also shuffles the rows.  That's great - we can use it for the initial holdout/modeling split and it automatically takes care of shuffling the data for us!"
      ]
    },
    {
      "cell_type": "code",
      "metadata": {
        "id": "7trb01jQelC4",
        "colab_type": "code",
        "colab": {
          "base_uri": "https://localhost:8080/",
          "height": 36
        },
        "outputId": "61b69677-2018-489f-c4ec-ef85e0f23329"
      },
      "source": [
        "import numpy as np\n",
        "import pandas as pd\n",
        "from copy import deepcopy  # makes a copy of complex, nested data structures\n",
        "from sklearn.datasets import load_wine\n",
        "from sklearn.model_selection import StratifiedKFold, StratifiedShuffleSplit\n",
        "\n",
        "data = load_wine()\n",
        "n, d = data.data.shape\n",
        "X, y = data.data, data.target\n",
        "\n",
        "holdout_frac = 0.1\n",
        "holdout_splitter = StratifiedShuffleSplit(n_splits=1, test_size=holdout_frac, random_state=42)\n",
        "model_idx, holdout_idx = next(holdout_splitter.split(X, y))\n",
        "X_m, y_m = X[model_idx]  , y[model_idx]\n",
        "X_h, y_h = X[holdout_idx], y[holdout_idx]\n",
        "X_m.shape, X_h.shape"
      ],
      "execution_count": 2,
      "outputs": [
        {
          "output_type": "execute_result",
          "data": {
            "text/plain": [
              "((160, 13), (18, 13))"
            ]
          },
          "metadata": {
            "tags": []
          },
          "execution_count": 2
        }
      ]
    },
    {
      "cell_type": "markdown",
      "metadata": {
        "id": "9ydW_l6HYhXR",
        "colab_type": "text"
      },
      "source": [
        "More useful sklearn functions\n",
        "- Pipeline - Allows us to chain together several steps into one object; particularly handy to make cross-validation easier.\n",
        "- confusion_matrix - Our model will predict which class it believes each validation observation belongs to.  Sometimes that prediction is right, sometimes it is wrong.  The confusion matrix counts these up.\n",
        "\n",
        "def: Let $q$ be the number of classes of the (categorical) target variable. The *confusion matrix* $C$ is a $q \\times q$ matrix where:\n",
        "- $C_{ij}$ = # of observations that ACTUALLY belong to class $i$ and are PREDICTED to be in class $j$.\n",
        "- The diagonal represents correct predictions; all other entries represent incorrect predictions.\n",
        "- def: *accuracy* = # correct predictions / total # of predictions = sum of C's diagonal / sum of all entries of C = C.trace() / C.sum()\n",
        "\n",
        "Other package used below:\n",
        "- matplotlib - the core visualization package\n",
        "    - There are now many visualization packages that are better than matplotlib.  But most are built on top of matplotlib.\n",
        "    - Many experience python coders still reach for matplotlib first because we're comfortable with it even though we know there are better options now available.\n",
        "- seaborn - One (of the many) better visualization package built on top of matplotlib.  Here, we use for a pretty version on the confusion matrix.\n"
      ]
    },
    {
      "cell_type": "code",
      "metadata": {
        "id": "pBlOwBQ3qDjt",
        "colab_type": "code",
        "colab": {
          "base_uri": "https://localhost:8080/",
          "height": 74
        },
        "outputId": "ac01781c-1bcc-45bf-e57b-cd924843a925"
      },
      "source": [
        "from sklearn.pipeline import Pipeline\n",
        "from sklearn.metrics import confusion_matrix\n",
        "import matplotlib.pyplot as plt\n",
        "import seaborn as sns\n",
        "\n",
        "def run_model(X, y, pipe, show_confusion=True, n_splits=10):\n",
        "    \"\"\" Inputs: X (features), Y (targets), pipe (classification pipeline)\n",
        "    show_confusion (whether to display confusion matrix\n",
        "    n_splits (number of cross-validation iterations)\n",
        "    \"\"\"\n",
        "    \n",
        "    acc = []  # each split produces an accuracy, store into acc\n",
        "    cfs = []  # each split produces a confusion matrix, store into cfs\n",
        "    train_splitter = StratifiedKFold(n_splits)  # create splitter object\n",
        "    f = 0  # tracks number of splits already completed\n",
        "    for train, valid in train_splitter.split(X, y):  # loop over the splits\n",
        "        y_true = y[valid]  # true classes for validation set\n",
        "        y_pred = pipe.fit(X[train], y[train]).predict(X[valid])  # predicted classes for validation set\n",
        "        # note we \"fit\" or \"train\" the model (pipe) using the training set\n",
        "        # then we apply that trained model to the validation set\n",
        "\n",
        "        cf = confusion_matrix(y_true, y_pred)  # create the confusion matrix\n",
        "        a = cf.trace() / cf.sum()  # compute the accuract\n",
        "        acc.append(a)  # record the accuracy\n",
        "        cfs.append(cf) # record the confusion matrix\n",
        "        if show_confusion:  # dislay the confusion matrix, if so desired\n",
        "            print(f\"Confusion matrix for fold {f} for {pipe.named_steps['classify'].n_neighbors} neighbors\")\n",
        "            display_confusion_matrix(cf)\n",
        "        f += 1  # increment the count of complete splits\n",
        "    return {'acc':acc, 'cfs':cfs, 'acc_mean':np.mean(acc)*100}\n",
        "\n",
        "def display_confusion_matrix(cf):\n",
        "    \"\"\"Pretty display for confusion matrix\"\"\"\n",
        "    sns.heatmap(cf, annot=True)\n",
        "    plt.xlabel(\"predicted\")\n",
        "    plt.ylabel(\"actual\")\n",
        "    plt.show()\n",
        "\n",
        "def display_results(df):\n",
        "    \"\"\"Pretty display of later results dataframe - nothing important here\"\"\"\n",
        "    df = df.astype('float')\n",
        "    with pd.option_context(\"display.max_rows\", 1000):\n",
        "        display(df.style.set_precision(2)\n",
        "            .highlight_max(axis=0, color='green')\n",
        "            .set_properties(**{'text-align':'center', 'border-width':'thin','border-style':'dotted'})\n",
        "            .set_table_attributes('style=\"border-collapse:collapse\"')\n",
        "        )\n",
        "    return df\n",
        "    "
      ],
      "execution_count": 3,
      "outputs": [
        {
          "output_type": "stream",
          "text": [
            "/usr/local/lib/python3.6/dist-packages/statsmodels/tools/_testing.py:19: FutureWarning: pandas.util.testing is deprecated. Use the functions in the public API at pandas.testing instead.\n",
            "  import pandas.util.testing as tm\n"
          ],
          "name": "stderr"
        }
      ]
    },
    {
      "cell_type": "markdown",
      "metadata": {
        "id": "XWt4js8Ed2WM",
        "colab_type": "text"
      },
      "source": [
        "Let's use these functions to run KNN."
      ]
    },
    {
      "cell_type": "code",
      "metadata": {
        "id": "IglOfUGNB5ym",
        "colab_type": "code",
        "colab": {
          "base_uri": "https://localhost:8080/",
          "height": 1000
        },
        "outputId": "fd76c144-9086-4506-fec7-4c208401137c"
      },
      "source": [
        "from sklearn.neighbors import KNeighborsClassifier\n",
        "\n",
        "# Create a pipeline with just 1 step ... apply KNN with k=5\n",
        "pipe = Pipeline([('classify', KNeighborsClassifier(n_neighbors=5))])\n",
        "\n",
        "# run that model\n",
        "res = run_model(X_m, y_m, pipe, show_confusion=True)\n",
        "print(f\"Mean accuracy over all cross-validations is {res['acc_mean']}%\")"
      ],
      "execution_count": 4,
      "outputs": [
        {
          "output_type": "stream",
          "text": [
            "Confusion matrix for fold 0 for 5 neighbors\n"
          ],
          "name": "stdout"
        },
        {
          "output_type": "display_data",
          "data": {
            "image/png": "[encoded data removed]",
            "text/plain": [
              "<Figure size 432x288 with 2 Axes>"
            ]
          },
          "metadata": {
            "tags": [],
            "needs_background": "light"
          }
        },
        {
          "output_type": "stream",
          "text": [
            "Confusion matrix for fold 1 for 5 neighbors\n"
          ],
          "name": "stdout"
        },
        {
          "output_type": "display_data",
          "data": {
            "image/png": "[encoded data removed]",
            "text/plain": [
              "<Figure size 432x288 with 2 Axes>"
            ]
          },
          "metadata": {
            "tags": [],
            "needs_background": "light"
          }
        },
        {
          "output_type": "stream",
          "text": [
            "Confusion matrix for fold 2 for 5 neighbors\n"
          ],
          "name": "stdout"
        },
        {
          "output_type": "display_data",
          "data": {
            "image/png": "[encoded data removed]",
            "text/plain": [
              "<Figure size 432x288 with 2 Axes>"
            ]
          },
          "metadata": {
            "tags": [],
            "needs_background": "light"
          }
        },
        {
          "output_type": "stream",
          "text": [
            "Confusion matrix for fold 3 for 5 neighbors\n"
          ],
          "name": "stdout"
        },
        {
          "output_type": "display_data",
          "data": {
            "image/png": "[encoded data removed]",
            "text/plain": [
              "<Figure size 432x288 with 2 Axes>"
            ]
          },
          "metadata": {
            "tags": [],
            "needs_background": "light"
          }
        },
        {
          "output_type": "stream",
          "text": [
            "Confusion matrix for fold 4 for 5 neighbors\n"
          ],
          "name": "stdout"
        },
        {
          "output_type": "display_data",
          "data": {
            "image/png": "[encoded data removed]",
            "text/plain": [
              "<Figure size 432x288 with 2 Axes>"
            ]
          },
          "metadata": {
            "tags": [],
            "needs_background": "light"
          }
        },
        {
          "output_type": "stream",
          "text": [
            "Confusion matrix for fold 5 for 5 neighbors\n"
          ],
          "name": "stdout"
        },
        {
          "output_type": "display_data",
          "data": {
            "image/png": "[encoded data removed]",
            "text/plain": [
              "<Figure size 432x288 with 2 Axes>"
            ]
          },
          "metadata": {
            "tags": [],
            "needs_background": "light"
          }
        },
        {
          "output_type": "stream",
          "text": [
            "Confusion matrix for fold 6 for 5 neighbors\n"
          ],
          "name": "stdout"
        },
        {
          "output_type": "display_data",
          "data": {
            "image/png": "[encoded data removed]",
            "text/plain": [
              "<Figure size 432x288 with 2 Axes>"
            ]
          },
          "metadata": {
            "tags": [],
            "needs_background": "light"
          }
        },
        {
          "output_type": "stream",
          "text": [
            "Confusion matrix for fold 7 for 5 neighbors\n"
          ],
          "name": "stdout"
        },
        {
          "output_type": "display_data",
          "data": {
            "image/png": "[encoded data removed]",
            "text/plain": [
              "<Figure size 432x288 with 2 Axes>"
            ]
          },
          "metadata": {
            "tags": [],
            "needs_background": "light"
          }
        },
        {
          "output_type": "stream",
          "text": [
            "Confusion matrix for fold 8 for 5 neighbors\n"
          ],
          "name": "stdout"
        },
        {
          "output_type": "display_data",
          "data": {
            "image/png": "[encoded data removed]",
            "text/plain": [
              "<Figure size 432x288 with 2 Axes>"
            ]
          },
          "metadata": {
            "tags": [],
            "needs_background": "light"
          }
        },
        {
          "output_type": "stream",
          "text": [
            "Confusion matrix for fold 9 for 5 neighbors\n"
          ],
          "name": "stdout"
        },
        {
          "output_type": "display_data",
          "data": {
            "image/png": "[encoded data removed]",
            "text/plain": [
              "<Figure size 432x288 with 2 Axes>"
            ]
          },
          "metadata": {
            "tags": [],
            "needs_background": "light"
          }
        },
        {
          "output_type": "stream",
          "text": [
            "Mean accuracy over all cross-validations is 71.25%\n"
          ],
          "name": "stdout"
        }
      ]
    },
    {
      "cell_type": "markdown",
      "metadata": {
        "id": "WEsrwbp3eHIc",
        "colab_type": "text"
      },
      "source": [
        "Hey, that accuracy sucks!  If we were randomly guessing, we expected to guess right about 1/3=33% of the time because there are 3 roughly balanced classes.  Our \"smart\" classifier should be able to beat random guessing by more than it is.  What's wrong?\n",
        "\n",
        "Let's look at some descriptive info about the features again.\n",
        "\n",
        "\n",
        "\n"
      ]
    },
    {
      "cell_type": "code",
      "metadata": {
        "id": "zPlocAzAfB5X",
        "colab_type": "code",
        "colab": {
          "base_uri": "https://localhost:8080/",
          "height": 1000
        },
        "outputId": "aceed99f-75c8-40ca-f948-687503509fef"
      },
      "source": [
        "print(data.DESCR)"
      ],
      "execution_count": 5,
      "outputs": [
        {
          "output_type": "stream",
          "text": [
            ".. _wine_dataset:\n",
            "\n",
            "Wine recognition dataset\n",
            "------------------------\n",
            "\n",
            "**Data Set Characteristics:**\n",
            "\n",
            "    :Number of Instances: 178 (50 in each of three classes)\n",
            "    :Number of Attributes: 13 numeric, predictive attributes and the class\n",
            "    :Attribute Information:\n",
            " \t\t- Alcohol\n",
            " \t\t- Malic acid\n",
            " \t\t- Ash\n",
            "\t\t- Alcalinity of ash  \n",
            " \t\t- Magnesium\n",
            "\t\t- Total phenols\n",
            " \t\t- Flavanoids\n",
            " \t\t- Nonflavanoid phenols\n",
            " \t\t- Proanthocyanins\n",
            "\t\t- Color intensity\n",
            " \t\t- Hue\n",
            " \t\t- OD280/OD315 of diluted wines\n",
            " \t\t- Proline\n",
            "\n",
            "    - class:\n",
            "            - class_0\n",
            "            - class_1\n",
            "            - class_2\n",
            "\t\t\n",
            "    :Summary Statistics:\n",
            "    \n",
            "    ============================= ==== ===== ======= =====\n",
            "                                   Min   Max   Mean     SD\n",
            "    ============================= ==== ===== ======= =====\n",
            "    Alcohol:                      11.0  14.8    13.0   0.8\n",
            "    Malic Acid:                   0.74  5.80    2.34  1.12\n",
            "    Ash:                          1.36  3.23    2.36  0.27\n",
            "    Alcalinity of Ash:            10.6  30.0    19.5   3.3\n",
            "    Magnesium:                    70.0 162.0    99.7  14.3\n",
            "    Total Phenols:                0.98  3.88    2.29  0.63\n",
            "    Flavanoids:                   0.34  5.08    2.03  1.00\n",
            "    Nonflavanoid Phenols:         0.13  0.66    0.36  0.12\n",
            "    Proanthocyanins:              0.41  3.58    1.59  0.57\n",
            "    Colour Intensity:              1.3  13.0     5.1   2.3\n",
            "    Hue:                          0.48  1.71    0.96  0.23\n",
            "    OD280/OD315 of diluted wines: 1.27  4.00    2.61  0.71\n",
            "    Proline:                       278  1680     746   315\n",
            "    ============================= ==== ===== ======= =====\n",
            "\n",
            "    :Missing Attribute Values: None\n",
            "    :Class Distribution: class_0 (59), class_1 (71), class_2 (48)\n",
            "    :Creator: R.A. Fisher\n",
            "    :Donor: Michael Marshall (MARSHALL%PLU@io.arc.nasa.gov)\n",
            "    :Date: July, 1988\n",
            "\n",
            "This is a copy of UCI ML Wine recognition datasets.\n",
            "https://archive.ics.uci.edu/ml/machine-learning-databases/wine/wine.data\n",
            "\n",
            "The data is the results of a chemical analysis of wines grown in the same\n",
            "region in Italy by three different cultivators. There are thirteen different\n",
            "measurements taken for different constituents found in the three types of\n",
            "wine.\n",
            "\n",
            "Original Owners: \n",
            "\n",
            "Forina, M. et al, PARVUS - \n",
            "An Extendible Package for Data Exploration, Classification and Correlation. \n",
            "Institute of Pharmaceutical and Food Analysis and Technologies,\n",
            "Via Brigata Salerno, 16147 Genoa, Italy.\n",
            "\n",
            "Citation:\n",
            "\n",
            "Lichman, M. (2013). UCI Machine Learning Repository\n",
            "[https://archive.ics.uci.edu/ml]. Irvine, CA: University of California,\n",
            "School of Information and Computer Science. \n",
            "\n",
            ".. topic:: References\n",
            "\n",
            "  (1) S. Aeberhard, D. Coomans and O. de Vel, \n",
            "  Comparison of Classifiers in High Dimensional Settings, \n",
            "  Tech. Rep. no. 92-02, (1992), Dept. of Computer Science and Dept. of  \n",
            "  Mathematics and Statistics, James Cook University of North Queensland. \n",
            "  (Also submitted to Technometrics). \n",
            "\n",
            "  The data was used with many others for comparing various \n",
            "  classifiers. The classes are separable, though only RDA \n",
            "  has achieved 100% correct classification. \n",
            "  (RDA : 100%, QDA 99.4%, LDA 98.9%, 1NN 96.1% (z-transformed data)) \n",
            "  (All results using the leave-one-out technique) \n",
            "\n",
            "  (2) S. Aeberhard, D. Coomans and O. de Vel, \n",
            "  \"THE CLASSIFICATION PERFORMANCE OF RDA\" \n",
            "  Tech. Rep. no. 92-01, (1992), Dept. of Computer Science and Dept. of \n",
            "  Mathematics and Statistics, James Cook University of North Queensland. \n",
            "  (Also submitted to Journal of Chemometrics).\n",
            "\n"
          ],
          "name": "stdout"
        }
      ]
    },
    {
      "cell_type": "markdown",
      "metadata": {
        "id": "GMLhuT_MfPjE",
        "colab_type": "text"
      },
      "source": [
        "Look at \"Magnesium\" vs \"Nonflavanoid Phenols\".  They're on totally different scales.  One has mean 99.7 while the other has mean 0.36.  The MIN for Magnesium is more than 100 x MAX of Nonflavanoid Phenols.\n",
        "\n",
        "This scale problem screws up KNN b/c it does its job based on distances.  Distances in the \"Magnesium direction\" competely swamp distances in the \"Nonflavanoid Phenols direction\".  In essence, the small features get ignored.\n",
        "\n",
        "We need to fix this so that all features have roughly equal weight.  We need the rescale the columns BEFORE applying KNN."
      ]
    },
    {
      "cell_type": "code",
      "metadata": {
        "id": "niztICUFweQE",
        "colab_type": "code",
        "colab": {
          "base_uri": "https://localhost:8080/",
          "height": 1000
        },
        "outputId": "c0406fed-c1a6-491e-b297-22aabc146b23"
      },
      "source": [
        "from sklearn.preprocessing import StandardScaler\n",
        "\n",
        "# Create a pipeline with just 2 steps ... scale then apply KNN with k=5\n",
        "pipe = Pipeline([('scale', StandardScaler()),\n",
        "                 ('classify', KNeighborsClassifier(n_neighbors=5))])\n",
        "res = run_model(X_m, y_m, pipe, show_confusion=True)\n",
        "print(f\"Mean accuracy over all cross-validations is {res['acc_mean']}%\")"
      ],
      "execution_count": 6,
      "outputs": [
        {
          "output_type": "stream",
          "text": [
            "Confusion matrix for fold 0 for 5 neighbors\n"
          ],
          "name": "stdout"
        },
        {
          "output_type": "display_data",
          "data": {
            "image/png": "[encoded data removed]",
            "text/plain": [
              "<Figure size 432x288 with 2 Axes>"
            ]
          },
          "metadata": {
            "tags": [],
            "needs_background": "light"
          }
        },
        {
          "output_type": "stream",
          "text": [
            "Confusion matrix for fold 1 for 5 neighbors\n"
          ],
          "name": "stdout"
        },
        {
          "output_type": "display_data",
          "data": {
            "image/png": "[encoded data removed]",
            "text/plain": [
              "<Figure size 432x288 with 2 Axes>"
            ]
          },
          "metadata": {
            "tags": [],
            "needs_background": "light"
          }
        },
        {
          "output_type": "stream",
          "text": [
            "Confusion matrix for fold 2 for 5 neighbors\n"
          ],
          "name": "stdout"
        },
        {
          "output_type": "display_data",
          "data": {
            "image/png": "[encoded data removed]",
            "text/plain": [
              "<Figure size 432x288 with 2 Axes>"
            ]
          },
          "metadata": {
            "tags": [],
            "needs_background": "light"
          }
        },
        {
          "output_type": "stream",
          "text": [
            "Confusion matrix for fold 3 for 5 neighbors\n"
          ],
          "name": "stdout"
        },
        {
          "output_type": "display_data",
          "data": {
            "image/png": "[encoded data removed]",
            "text/plain": [
              "<Figure size 432x288 with 2 Axes>"
            ]
          },
          "metadata": {
            "tags": [],
            "needs_background": "light"
          }
        },
        {
          "output_type": "stream",
          "text": [
            "Confusion matrix for fold 4 for 5 neighbors\n"
          ],
          "name": "stdout"
        },
        {
          "output_type": "display_data",
          "data": {
            "image/png": "[encoded data removed]",
            "text/plain": [
              "<Figure size 432x288 with 2 Axes>"
            ]
          },
          "metadata": {
            "tags": [],
            "needs_background": "light"
          }
        },
        {
          "output_type": "stream",
          "text": [
            "Confusion matrix for fold 5 for 5 neighbors\n"
          ],
          "name": "stdout"
        },
        {
          "output_type": "display_data",
          "data": {
            "image/png": "[encoded data removed]",
            "text/plain": [
              "<Figure size 432x288 with 2 Axes>"
            ]
          },
          "metadata": {
            "tags": [],
            "needs_background": "light"
          }
        },
        {
          "output_type": "stream",
          "text": [
            "Confusion matrix for fold 6 for 5 neighbors\n"
          ],
          "name": "stdout"
        },
        {
          "output_type": "display_data",
          "data": {
            "image/png": "[encoded data removed]",
            "text/plain": [
              "<Figure size 432x288 with 2 Axes>"
            ]
          },
          "metadata": {
            "tags": [],
            "needs_background": "light"
          }
        },
        {
          "output_type": "stream",
          "text": [
            "Confusion matrix for fold 7 for 5 neighbors\n"
          ],
          "name": "stdout"
        },
        {
          "output_type": "display_data",
          "data": {
            "image/png": "[encoded data removed]",
            "text/plain": [
              "<Figure size 432x288 with 2 Axes>"
            ]
          },
          "metadata": {
            "tags": [],
            "needs_background": "light"
          }
        },
        {
          "output_type": "stream",
          "text": [
            "Confusion matrix for fold 8 for 5 neighbors\n"
          ],
          "name": "stdout"
        },
        {
          "output_type": "display_data",
          "data": {
            "image/png": "[encoded data removed]",
            "text/plain": [
              "<Figure size 432x288 with 2 Axes>"
            ]
          },
          "metadata": {
            "tags": [],
            "needs_background": "light"
          }
        },
        {
          "output_type": "stream",
          "text": [
            "Confusion matrix for fold 9 for 5 neighbors\n"
          ],
          "name": "stdout"
        },
        {
          "output_type": "display_data",
          "data": {
            "image/png": "[encoded data removed]",
            "text/plain": [
              "<Figure size 432x288 with 2 Axes>"
            ]
          },
          "metadata": {
            "tags": [],
            "needs_background": "light"
          }
        },
        {
          "output_type": "stream",
          "text": [
            "Mean accuracy over all cross-validations is 96.25%\n"
          ],
          "name": "stdout"
        }
      ]
    },
    {
      "cell_type": "markdown",
      "metadata": {
        "id": "-2S6TB7t5yry",
        "colab_type": "text"
      },
      "source": [
        "Oh, that is MUCH better.  And it requires ALMOST no extra coding - just add the scaler to the front of the pipeline!"
      ]
    },
    {
      "cell_type": "markdown",
      "metadata": {
        "id": "E9Y4Vt5k57nw",
        "colab_type": "text"
      },
      "source": [
        "Now, let's tune our model.  The main hyperparameter is n_neighbors used by KNN.  So, let's loop over several options and look at the results."
      ]
    },
    {
      "cell_type": "code",
      "metadata": {
        "id": "DjQNif7PtI8x",
        "colab_type": "code",
        "colab": {
          "base_uri": "https://localhost:8080/",
          "height": 255
        },
        "outputId": "e1e94cca-579f-4247-8fad-3f961cba5619"
      },
      "source": [
        "df_results = pd.DataFrame(columns=['n_neighbors', 'acc_mean']).set_index('n_neighbors')  # write results in here\n",
        "for n_neighbors in np.arange(1, 11):  # loop over a range of n_neighbor options\n",
        "    pipe = Pipeline([('scale'   , StandardScaler()),\n",
        "                     ('classify', KNeighborsClassifier(n_neighbors))])\n",
        "    res = run_model(X_m, y_m, pipe, show_confusion=False)\n",
        "    df_results.loc[n_neighbors, 'acc_mean'] = res['acc_mean']  # record results into df_results\n",
        "display_results(df_results);  # pretty prints df_results (see above for the display_results fcn)"
      ],
      "execution_count": 10,
      "outputs": [
        {
          "output_type": "display_data",
          "data": {
            "text/html": [
              "<style  type=\"text/css\" >\n",
              "#T_e287ab00_fe81_11ea_9928_0242ac1c0002row0_col0,#T_e287ab00_fe81_11ea_9928_0242ac1c0002row1_col0,#T_e287ab00_fe81_11ea_9928_0242ac1c0002row2_col0,#T_e287ab00_fe81_11ea_9928_0242ac1c0002row3_col0,#T_e287ab00_fe81_11ea_9928_0242ac1c0002row4_col0,#T_e287ab00_fe81_11ea_9928_0242ac1c0002row5_col0,#T_e287ab00_fe81_11ea_9928_0242ac1c0002row7_col0,#T_e287ab00_fe81_11ea_9928_0242ac1c0002row8_col0,#T_e287ab00_fe81_11ea_9928_0242ac1c0002row9_col0{\n",
              "            text-align:  center;\n",
              "            border-width:  thin;\n",
              "            border-style:  dotted;\n",
              "        }#T_e287ab00_fe81_11ea_9928_0242ac1c0002row6_col0{\n",
              "            background-color:  green;\n",
              "            text-align:  center;\n",
              "            border-width:  thin;\n",
              "            border-style:  dotted;\n",
              "        }</style><table id=\"T_e287ab00_fe81_11ea_9928_0242ac1c0002\" style=\"border-collapse:collapse\"><thead>    <tr>        <th class=\"blank level0\" ></th>        <th class=\"col_heading level0 col0\" >acc_mean</th>    </tr>    <tr>        <th class=\"index_name level0\" >n_neighbors</th>        <th class=\"blank\" ></th>    </tr></thead><tbody>\n",
              "                <tr>\n",
              "                        <th id=\"T_e287ab00_fe81_11ea_9928_0242ac1c0002level0_row0\" class=\"row_heading level0 row0\" >1</th>\n",
              "                        <td id=\"T_e287ab00_fe81_11ea_9928_0242ac1c0002row0_col0\" class=\"data row0 col0\" >95.00</td>\n",
              "            </tr>\n",
              "            <tr>\n",
              "                        <th id=\"T_e287ab00_fe81_11ea_9928_0242ac1c0002level0_row1\" class=\"row_heading level0 row1\" >2</th>\n",
              "                        <td id=\"T_e287ab00_fe81_11ea_9928_0242ac1c0002row1_col0\" class=\"data row1 col0\" >94.38</td>\n",
              "            </tr>\n",
              "            <tr>\n",
              "                        <th id=\"T_e287ab00_fe81_11ea_9928_0242ac1c0002level0_row2\" class=\"row_heading level0 row2\" >3</th>\n",
              "                        <td id=\"T_e287ab00_fe81_11ea_9928_0242ac1c0002row2_col0\" class=\"data row2 col0\" >95.62</td>\n",
              "            </tr>\n",
              "            <tr>\n",
              "                        <th id=\"T_e287ab00_fe81_11ea_9928_0242ac1c0002level0_row3\" class=\"row_heading level0 row3\" >4</th>\n",
              "                        <td id=\"T_e287ab00_fe81_11ea_9928_0242ac1c0002row3_col0\" class=\"data row3 col0\" >94.38</td>\n",
              "            </tr>\n",
              "            <tr>\n",
              "                        <th id=\"T_e287ab00_fe81_11ea_9928_0242ac1c0002level0_row4\" class=\"row_heading level0 row4\" >5</th>\n",
              "                        <td id=\"T_e287ab00_fe81_11ea_9928_0242ac1c0002row4_col0\" class=\"data row4 col0\" >96.25</td>\n",
              "            </tr>\n",
              "            <tr>\n",
              "                        <th id=\"T_e287ab00_fe81_11ea_9928_0242ac1c0002level0_row5\" class=\"row_heading level0 row5\" >6</th>\n",
              "                        <td id=\"T_e287ab00_fe81_11ea_9928_0242ac1c0002row5_col0\" class=\"data row5 col0\" >94.38</td>\n",
              "            </tr>\n",
              "            <tr>\n",
              "                        <th id=\"T_e287ab00_fe81_11ea_9928_0242ac1c0002level0_row6\" class=\"row_heading level0 row6\" >7</th>\n",
              "                        <td id=\"T_e287ab00_fe81_11ea_9928_0242ac1c0002row6_col0\" class=\"data row6 col0\" >98.12</td>\n",
              "            </tr>\n",
              "            <tr>\n",
              "                        <th id=\"T_e287ab00_fe81_11ea_9928_0242ac1c0002level0_row7\" class=\"row_heading level0 row7\" >8</th>\n",
              "                        <td id=\"T_e287ab00_fe81_11ea_9928_0242ac1c0002row7_col0\" class=\"data row7 col0\" >95.62</td>\n",
              "            </tr>\n",
              "            <tr>\n",
              "                        <th id=\"T_e287ab00_fe81_11ea_9928_0242ac1c0002level0_row8\" class=\"row_heading level0 row8\" >9</th>\n",
              "                        <td id=\"T_e287ab00_fe81_11ea_9928_0242ac1c0002row8_col0\" class=\"data row8 col0\" >95.62</td>\n",
              "            </tr>\n",
              "            <tr>\n",
              "                        <th id=\"T_e287ab00_fe81_11ea_9928_0242ac1c0002level0_row9\" class=\"row_heading level0 row9\" >10</th>\n",
              "                        <td id=\"T_e287ab00_fe81_11ea_9928_0242ac1c0002row9_col0\" class=\"data row9 col0\" >95.62</td>\n",
              "            </tr>\n",
              "    </tbody></table>"
            ],
            "text/plain": [
              "<pandas.io.formats.style.Styler at 0x7f30da175e80>"
            ]
          },
          "metadata": {
            "tags": []
          }
        }
      ]
    },
    {
      "cell_type": "markdown",
      "metadata": {
        "id": "LYW0JmHx6tUJ",
        "colab_type": "text"
      },
      "source": [
        "Okay, n_neighbors=7 looks optimal.\n",
        "\n",
        "Do we NEED to use all 13 columns?  Or could we get away with some dimensionality reduction?\n",
        "\n",
        "Let's try throwing in PCA.  We must do PCA after scaling and before KNN."
      ]
    },
    {
      "cell_type": "code",
      "metadata": {
        "id": "XXGID1igttPH",
        "colab_type": "code",
        "colab": {
          "base_uri": "https://localhost:8080/",
          "height": 275
        },
        "outputId": "6e05b269-3dbb-4441-fb47-f2083946256f"
      },
      "source": [
        "from sklearn.decomposition import PCA\n",
        "\n",
        "df_results = pd.DataFrame(columns=['n_components', 'n_neighbors', 'acc_mean']).set_index(['n_components', 'n_neighbors'])\n",
        "for n_components in np.arange(1, d+1):  # max n_components = number of features = d\n",
        "    for n_neighbors in np.arange(1, 11):\n",
        "        pipe = Pipeline([('scale'     , StandardScaler()),\n",
        "                         ('dim_reduce', PCA(n_components=n_components)),\n",
        "                         ('classify'  , KNeighborsClassifier(n_neighbors))])\n",
        "        res = run_model(X_m, y_m, pipe, show_confusion=False)\n",
        "        df_results.loc[(n_components, n_neighbors), 'acc_mean'] = res['acc_mean']\n",
        "display_results(df_results.unstack(0));"
      ],
      "execution_count": 11,
      "outputs": [
        {
          "output_type": "display_data",
          "data": {
            "text/html": [
              "<style  type=\"text/css\" >\n",
              "#T_528fb38e_fe82_11ea_9928_0242ac1c0002row0_col0,#T_528fb38e_fe82_11ea_9928_0242ac1c0002row0_col3,#T_528fb38e_fe82_11ea_9928_0242ac1c0002row0_col4,#T_528fb38e_fe82_11ea_9928_0242ac1c0002row0_col5,#T_528fb38e_fe82_11ea_9928_0242ac1c0002row0_col6,#T_528fb38e_fe82_11ea_9928_0242ac1c0002row0_col7,#T_528fb38e_fe82_11ea_9928_0242ac1c0002row0_col8,#T_528fb38e_fe82_11ea_9928_0242ac1c0002row0_col9,#T_528fb38e_fe82_11ea_9928_0242ac1c0002row0_col10,#T_528fb38e_fe82_11ea_9928_0242ac1c0002row0_col11,#T_528fb38e_fe82_11ea_9928_0242ac1c0002row0_col12,#T_528fb38e_fe82_11ea_9928_0242ac1c0002row1_col0,#T_528fb38e_fe82_11ea_9928_0242ac1c0002row1_col1,#T_528fb38e_fe82_11ea_9928_0242ac1c0002row1_col2,#T_528fb38e_fe82_11ea_9928_0242ac1c0002row1_col3,#T_528fb38e_fe82_11ea_9928_0242ac1c0002row1_col4,#T_528fb38e_fe82_11ea_9928_0242ac1c0002row1_col5,#T_528fb38e_fe82_11ea_9928_0242ac1c0002row1_col6,#T_528fb38e_fe82_11ea_9928_0242ac1c0002row1_col7,#T_528fb38e_fe82_11ea_9928_0242ac1c0002row1_col8,#T_528fb38e_fe82_11ea_9928_0242ac1c0002row1_col9,#T_528fb38e_fe82_11ea_9928_0242ac1c0002row1_col10,#T_528fb38e_fe82_11ea_9928_0242ac1c0002row1_col11,#T_528fb38e_fe82_11ea_9928_0242ac1c0002row1_col12,#T_528fb38e_fe82_11ea_9928_0242ac1c0002row2_col0,#T_528fb38e_fe82_11ea_9928_0242ac1c0002row2_col1,#T_528fb38e_fe82_11ea_9928_0242ac1c0002row2_col2,#T_528fb38e_fe82_11ea_9928_0242ac1c0002row2_col3,#T_528fb38e_fe82_11ea_9928_0242ac1c0002row2_col4,#T_528fb38e_fe82_11ea_9928_0242ac1c0002row2_col5,#T_528fb38e_fe82_11ea_9928_0242ac1c0002row2_col6,#T_528fb38e_fe82_11ea_9928_0242ac1c0002row2_col7,#T_528fb38e_fe82_11ea_9928_0242ac1c0002row2_col8,#T_528fb38e_fe82_11ea_9928_0242ac1c0002row2_col9,#T_528fb38e_fe82_11ea_9928_0242ac1c0002row2_col10,#T_528fb38e_fe82_11ea_9928_0242ac1c0002row2_col11,#T_528fb38e_fe82_11ea_9928_0242ac1c0002row2_col12,#T_528fb38e_fe82_11ea_9928_0242ac1c0002row3_col0,#T_528fb38e_fe82_11ea_9928_0242ac1c0002row3_col1,#T_528fb38e_fe82_11ea_9928_0242ac1c0002row3_col2,#T_528fb38e_fe82_11ea_9928_0242ac1c0002row3_col5,#T_528fb38e_fe82_11ea_9928_0242ac1c0002row3_col6,#T_528fb38e_fe82_11ea_9928_0242ac1c0002row3_col7,#T_528fb38e_fe82_11ea_9928_0242ac1c0002row3_col8,#T_528fb38e_fe82_11ea_9928_0242ac1c0002row3_col9,#T_528fb38e_fe82_11ea_9928_0242ac1c0002row3_col10,#T_528fb38e_fe82_11ea_9928_0242ac1c0002row3_col11,#T_528fb38e_fe82_11ea_9928_0242ac1c0002row3_col12,#T_528fb38e_fe82_11ea_9928_0242ac1c0002row4_col0,#T_528fb38e_fe82_11ea_9928_0242ac1c0002row4_col1,#T_528fb38e_fe82_11ea_9928_0242ac1c0002row4_col3,#T_528fb38e_fe82_11ea_9928_0242ac1c0002row4_col6,#T_528fb38e_fe82_11ea_9928_0242ac1c0002row4_col7,#T_528fb38e_fe82_11ea_9928_0242ac1c0002row4_col8,#T_528fb38e_fe82_11ea_9928_0242ac1c0002row4_col9,#T_528fb38e_fe82_11ea_9928_0242ac1c0002row4_col10,#T_528fb38e_fe82_11ea_9928_0242ac1c0002row4_col11,#T_528fb38e_fe82_11ea_9928_0242ac1c0002row4_col12,#T_528fb38e_fe82_11ea_9928_0242ac1c0002row5_col0,#T_528fb38e_fe82_11ea_9928_0242ac1c0002row5_col1,#T_528fb38e_fe82_11ea_9928_0242ac1c0002row5_col4,#T_528fb38e_fe82_11ea_9928_0242ac1c0002row5_col5,#T_528fb38e_fe82_11ea_9928_0242ac1c0002row5_col6,#T_528fb38e_fe82_11ea_9928_0242ac1c0002row5_col7,#T_528fb38e_fe82_11ea_9928_0242ac1c0002row5_col8,#T_528fb38e_fe82_11ea_9928_0242ac1c0002row5_col9,#T_528fb38e_fe82_11ea_9928_0242ac1c0002row5_col10,#T_528fb38e_fe82_11ea_9928_0242ac1c0002row5_col11,#T_528fb38e_fe82_11ea_9928_0242ac1c0002row5_col12,#T_528fb38e_fe82_11ea_9928_0242ac1c0002row6_col0,#T_528fb38e_fe82_11ea_9928_0242ac1c0002row6_col4,#T_528fb38e_fe82_11ea_9928_0242ac1c0002row6_col5,#T_528fb38e_fe82_11ea_9928_0242ac1c0002row7_col0,#T_528fb38e_fe82_11ea_9928_0242ac1c0002row7_col2,#T_528fb38e_fe82_11ea_9928_0242ac1c0002row7_col3,#T_528fb38e_fe82_11ea_9928_0242ac1c0002row7_col4,#T_528fb38e_fe82_11ea_9928_0242ac1c0002row7_col5,#T_528fb38e_fe82_11ea_9928_0242ac1c0002row7_col6,#T_528fb38e_fe82_11ea_9928_0242ac1c0002row7_col7,#T_528fb38e_fe82_11ea_9928_0242ac1c0002row7_col8,#T_528fb38e_fe82_11ea_9928_0242ac1c0002row7_col9,#T_528fb38e_fe82_11ea_9928_0242ac1c0002row7_col10,#T_528fb38e_fe82_11ea_9928_0242ac1c0002row7_col11,#T_528fb38e_fe82_11ea_9928_0242ac1c0002row7_col12,#T_528fb38e_fe82_11ea_9928_0242ac1c0002row8_col0,#T_528fb38e_fe82_11ea_9928_0242ac1c0002row8_col2,#T_528fb38e_fe82_11ea_9928_0242ac1c0002row8_col3,#T_528fb38e_fe82_11ea_9928_0242ac1c0002row8_col4,#T_528fb38e_fe82_11ea_9928_0242ac1c0002row8_col8,#T_528fb38e_fe82_11ea_9928_0242ac1c0002row8_col9,#T_528fb38e_fe82_11ea_9928_0242ac1c0002row8_col10,#T_528fb38e_fe82_11ea_9928_0242ac1c0002row8_col11,#T_528fb38e_fe82_11ea_9928_0242ac1c0002row8_col12,#T_528fb38e_fe82_11ea_9928_0242ac1c0002row9_col3,#T_528fb38e_fe82_11ea_9928_0242ac1c0002row9_col4,#T_528fb38e_fe82_11ea_9928_0242ac1c0002row9_col5,#T_528fb38e_fe82_11ea_9928_0242ac1c0002row9_col8,#T_528fb38e_fe82_11ea_9928_0242ac1c0002row9_col9,#T_528fb38e_fe82_11ea_9928_0242ac1c0002row9_col10,#T_528fb38e_fe82_11ea_9928_0242ac1c0002row9_col11,#T_528fb38e_fe82_11ea_9928_0242ac1c0002row9_col12{\n",
              "            text-align:  center;\n",
              "            border-width:  thin;\n",
              "            border-style:  dotted;\n",
              "        }#T_528fb38e_fe82_11ea_9928_0242ac1c0002row0_col1,#T_528fb38e_fe82_11ea_9928_0242ac1c0002row0_col2,#T_528fb38e_fe82_11ea_9928_0242ac1c0002row3_col3,#T_528fb38e_fe82_11ea_9928_0242ac1c0002row3_col4,#T_528fb38e_fe82_11ea_9928_0242ac1c0002row4_col2,#T_528fb38e_fe82_11ea_9928_0242ac1c0002row4_col4,#T_528fb38e_fe82_11ea_9928_0242ac1c0002row4_col5,#T_528fb38e_fe82_11ea_9928_0242ac1c0002row5_col2,#T_528fb38e_fe82_11ea_9928_0242ac1c0002row5_col3,#T_528fb38e_fe82_11ea_9928_0242ac1c0002row6_col1,#T_528fb38e_fe82_11ea_9928_0242ac1c0002row6_col2,#T_528fb38e_fe82_11ea_9928_0242ac1c0002row6_col3,#T_528fb38e_fe82_11ea_9928_0242ac1c0002row6_col6,#T_528fb38e_fe82_11ea_9928_0242ac1c0002row6_col7,#T_528fb38e_fe82_11ea_9928_0242ac1c0002row6_col8,#T_528fb38e_fe82_11ea_9928_0242ac1c0002row6_col9,#T_528fb38e_fe82_11ea_9928_0242ac1c0002row6_col10,#T_528fb38e_fe82_11ea_9928_0242ac1c0002row6_col11,#T_528fb38e_fe82_11ea_9928_0242ac1c0002row6_col12,#T_528fb38e_fe82_11ea_9928_0242ac1c0002row7_col1,#T_528fb38e_fe82_11ea_9928_0242ac1c0002row8_col1,#T_528fb38e_fe82_11ea_9928_0242ac1c0002row8_col5,#T_528fb38e_fe82_11ea_9928_0242ac1c0002row8_col6,#T_528fb38e_fe82_11ea_9928_0242ac1c0002row8_col7,#T_528fb38e_fe82_11ea_9928_0242ac1c0002row9_col0,#T_528fb38e_fe82_11ea_9928_0242ac1c0002row9_col1,#T_528fb38e_fe82_11ea_9928_0242ac1c0002row9_col2,#T_528fb38e_fe82_11ea_9928_0242ac1c0002row9_col6,#T_528fb38e_fe82_11ea_9928_0242ac1c0002row9_col7{\n",
              "            background-color:  green;\n",
              "            text-align:  center;\n",
              "            border-width:  thin;\n",
              "            border-style:  dotted;\n",
              "        }</style><table id=\"T_528fb38e_fe82_11ea_9928_0242ac1c0002\" style=\"border-collapse:collapse\"><thead>    <tr>        <th class=\"blank level0\" ></th>        <th class=\"col_heading level0 col0\" colspan=13>acc_mean</th>    </tr>    <tr>        <th class=\"index_name level1\" >n_components</th>        <th class=\"col_heading level1 col0\" >1</th>        <th class=\"col_heading level1 col1\" >2</th>        <th class=\"col_heading level1 col2\" >3</th>        <th class=\"col_heading level1 col3\" >4</th>        <th class=\"col_heading level1 col4\" >5</th>        <th class=\"col_heading level1 col5\" >6</th>        <th class=\"col_heading level1 col6\" >7</th>        <th class=\"col_heading level1 col7\" >8</th>        <th class=\"col_heading level1 col8\" >9</th>        <th class=\"col_heading level1 col9\" >10</th>        <th class=\"col_heading level1 col10\" >11</th>        <th class=\"col_heading level1 col11\" >12</th>        <th class=\"col_heading level1 col12\" >13</th>    </tr>    <tr>        <th class=\"index_name level0\" >n_neighbors</th>        <th class=\"blank\" ></th>        <th class=\"blank\" ></th>        <th class=\"blank\" ></th>        <th class=\"blank\" ></th>        <th class=\"blank\" ></th>        <th class=\"blank\" ></th>        <th class=\"blank\" ></th>        <th class=\"blank\" ></th>        <th class=\"blank\" ></th>        <th class=\"blank\" ></th>        <th class=\"blank\" ></th>        <th class=\"blank\" ></th>        <th class=\"blank\" ></th>    </tr></thead><tbody>\n",
              "                <tr>\n",
              "                        <th id=\"T_528fb38e_fe82_11ea_9928_0242ac1c0002level0_row0\" class=\"row_heading level0 row0\" >1</th>\n",
              "                        <td id=\"T_528fb38e_fe82_11ea_9928_0242ac1c0002row0_col0\" class=\"data row0 col0\" >79.38</td>\n",
              "                        <td id=\"T_528fb38e_fe82_11ea_9928_0242ac1c0002row0_col1\" class=\"data row0 col1\" >97.50</td>\n",
              "                        <td id=\"T_528fb38e_fe82_11ea_9928_0242ac1c0002row0_col2\" class=\"data row0 col2\" >96.88</td>\n",
              "                        <td id=\"T_528fb38e_fe82_11ea_9928_0242ac1c0002row0_col3\" class=\"data row0 col3\" >95.00</td>\n",
              "                        <td id=\"T_528fb38e_fe82_11ea_9928_0242ac1c0002row0_col4\" class=\"data row0 col4\" >95.62</td>\n",
              "                        <td id=\"T_528fb38e_fe82_11ea_9928_0242ac1c0002row0_col5\" class=\"data row0 col5\" >96.25</td>\n",
              "                        <td id=\"T_528fb38e_fe82_11ea_9928_0242ac1c0002row0_col6\" class=\"data row0 col6\" >95.00</td>\n",
              "                        <td id=\"T_528fb38e_fe82_11ea_9928_0242ac1c0002row0_col7\" class=\"data row0 col7\" >94.38</td>\n",
              "                        <td id=\"T_528fb38e_fe82_11ea_9928_0242ac1c0002row0_col8\" class=\"data row0 col8\" >94.38</td>\n",
              "                        <td id=\"T_528fb38e_fe82_11ea_9928_0242ac1c0002row0_col9\" class=\"data row0 col9\" >95.00</td>\n",
              "                        <td id=\"T_528fb38e_fe82_11ea_9928_0242ac1c0002row0_col10\" class=\"data row0 col10\" >94.38</td>\n",
              "                        <td id=\"T_528fb38e_fe82_11ea_9928_0242ac1c0002row0_col11\" class=\"data row0 col11\" >95.62</td>\n",
              "                        <td id=\"T_528fb38e_fe82_11ea_9928_0242ac1c0002row0_col12\" class=\"data row0 col12\" >95.00</td>\n",
              "            </tr>\n",
              "            <tr>\n",
              "                        <th id=\"T_528fb38e_fe82_11ea_9928_0242ac1c0002level0_row1\" class=\"row_heading level0 row1\" >2</th>\n",
              "                        <td id=\"T_528fb38e_fe82_11ea_9928_0242ac1c0002row1_col0\" class=\"data row1 col0\" >83.12</td>\n",
              "                        <td id=\"T_528fb38e_fe82_11ea_9928_0242ac1c0002row1_col1\" class=\"data row1 col1\" >96.25</td>\n",
              "                        <td id=\"T_528fb38e_fe82_11ea_9928_0242ac1c0002row1_col2\" class=\"data row1 col2\" >95.00</td>\n",
              "                        <td id=\"T_528fb38e_fe82_11ea_9928_0242ac1c0002row1_col3\" class=\"data row1 col3\" >95.00</td>\n",
              "                        <td id=\"T_528fb38e_fe82_11ea_9928_0242ac1c0002row1_col4\" class=\"data row1 col4\" >95.00</td>\n",
              "                        <td id=\"T_528fb38e_fe82_11ea_9928_0242ac1c0002row1_col5\" class=\"data row1 col5\" >95.62</td>\n",
              "                        <td id=\"T_528fb38e_fe82_11ea_9928_0242ac1c0002row1_col6\" class=\"data row1 col6\" >93.75</td>\n",
              "                        <td id=\"T_528fb38e_fe82_11ea_9928_0242ac1c0002row1_col7\" class=\"data row1 col7\" >93.12</td>\n",
              "                        <td id=\"T_528fb38e_fe82_11ea_9928_0242ac1c0002row1_col8\" class=\"data row1 col8\" >94.38</td>\n",
              "                        <td id=\"T_528fb38e_fe82_11ea_9928_0242ac1c0002row1_col9\" class=\"data row1 col9\" >95.62</td>\n",
              "                        <td id=\"T_528fb38e_fe82_11ea_9928_0242ac1c0002row1_col10\" class=\"data row1 col10\" >94.38</td>\n",
              "                        <td id=\"T_528fb38e_fe82_11ea_9928_0242ac1c0002row1_col11\" class=\"data row1 col11\" >95.00</td>\n",
              "                        <td id=\"T_528fb38e_fe82_11ea_9928_0242ac1c0002row1_col12\" class=\"data row1 col12\" >94.38</td>\n",
              "            </tr>\n",
              "            <tr>\n",
              "                        <th id=\"T_528fb38e_fe82_11ea_9928_0242ac1c0002level0_row2\" class=\"row_heading level0 row2\" >3</th>\n",
              "                        <td id=\"T_528fb38e_fe82_11ea_9928_0242ac1c0002row2_col0\" class=\"data row2 col0\" >82.50</td>\n",
              "                        <td id=\"T_528fb38e_fe82_11ea_9928_0242ac1c0002row2_col1\" class=\"data row2 col1\" >96.25</td>\n",
              "                        <td id=\"T_528fb38e_fe82_11ea_9928_0242ac1c0002row2_col2\" class=\"data row2 col2\" >96.25</td>\n",
              "                        <td id=\"T_528fb38e_fe82_11ea_9928_0242ac1c0002row2_col3\" class=\"data row2 col3\" >95.00</td>\n",
              "                        <td id=\"T_528fb38e_fe82_11ea_9928_0242ac1c0002row2_col4\" class=\"data row2 col4\" >96.25</td>\n",
              "                        <td id=\"T_528fb38e_fe82_11ea_9928_0242ac1c0002row2_col5\" class=\"data row2 col5\" >95.62</td>\n",
              "                        <td id=\"T_528fb38e_fe82_11ea_9928_0242ac1c0002row2_col6\" class=\"data row2 col6\" >94.38</td>\n",
              "                        <td id=\"T_528fb38e_fe82_11ea_9928_0242ac1c0002row2_col7\" class=\"data row2 col7\" >96.25</td>\n",
              "                        <td id=\"T_528fb38e_fe82_11ea_9928_0242ac1c0002row2_col8\" class=\"data row2 col8\" >95.62</td>\n",
              "                        <td id=\"T_528fb38e_fe82_11ea_9928_0242ac1c0002row2_col9\" class=\"data row2 col9\" >95.00</td>\n",
              "                        <td id=\"T_528fb38e_fe82_11ea_9928_0242ac1c0002row2_col10\" class=\"data row2 col10\" >95.00</td>\n",
              "                        <td id=\"T_528fb38e_fe82_11ea_9928_0242ac1c0002row2_col11\" class=\"data row2 col11\" >95.62</td>\n",
              "                        <td id=\"T_528fb38e_fe82_11ea_9928_0242ac1c0002row2_col12\" class=\"data row2 col12\" >95.62</td>\n",
              "            </tr>\n",
              "            <tr>\n",
              "                        <th id=\"T_528fb38e_fe82_11ea_9928_0242ac1c0002level0_row3\" class=\"row_heading level0 row3\" >4</th>\n",
              "                        <td id=\"T_528fb38e_fe82_11ea_9928_0242ac1c0002row3_col0\" class=\"data row3 col0\" >83.12</td>\n",
              "                        <td id=\"T_528fb38e_fe82_11ea_9928_0242ac1c0002row3_col1\" class=\"data row3 col1\" >96.88</td>\n",
              "                        <td id=\"T_528fb38e_fe82_11ea_9928_0242ac1c0002row3_col2\" class=\"data row3 col2\" >96.25</td>\n",
              "                        <td id=\"T_528fb38e_fe82_11ea_9928_0242ac1c0002row3_col3\" class=\"data row3 col3\" >96.25</td>\n",
              "                        <td id=\"T_528fb38e_fe82_11ea_9928_0242ac1c0002row3_col4\" class=\"data row3 col4\" >96.88</td>\n",
              "                        <td id=\"T_528fb38e_fe82_11ea_9928_0242ac1c0002row3_col5\" class=\"data row3 col5\" >95.00</td>\n",
              "                        <td id=\"T_528fb38e_fe82_11ea_9928_0242ac1c0002row3_col6\" class=\"data row3 col6\" >94.38</td>\n",
              "                        <td id=\"T_528fb38e_fe82_11ea_9928_0242ac1c0002row3_col7\" class=\"data row3 col7\" >95.62</td>\n",
              "                        <td id=\"T_528fb38e_fe82_11ea_9928_0242ac1c0002row3_col8\" class=\"data row3 col8\" >95.00</td>\n",
              "                        <td id=\"T_528fb38e_fe82_11ea_9928_0242ac1c0002row3_col9\" class=\"data row3 col9\" >95.00</td>\n",
              "                        <td id=\"T_528fb38e_fe82_11ea_9928_0242ac1c0002row3_col10\" class=\"data row3 col10\" >93.75</td>\n",
              "                        <td id=\"T_528fb38e_fe82_11ea_9928_0242ac1c0002row3_col11\" class=\"data row3 col11\" >94.38</td>\n",
              "                        <td id=\"T_528fb38e_fe82_11ea_9928_0242ac1c0002row3_col12\" class=\"data row3 col12\" >94.38</td>\n",
              "            </tr>\n",
              "            <tr>\n",
              "                        <th id=\"T_528fb38e_fe82_11ea_9928_0242ac1c0002level0_row4\" class=\"row_heading level0 row4\" >5</th>\n",
              "                        <td id=\"T_528fb38e_fe82_11ea_9928_0242ac1c0002row4_col0\" class=\"data row4 col0\" >84.38</td>\n",
              "                        <td id=\"T_528fb38e_fe82_11ea_9928_0242ac1c0002row4_col1\" class=\"data row4 col1\" >96.88</td>\n",
              "                        <td id=\"T_528fb38e_fe82_11ea_9928_0242ac1c0002row4_col2\" class=\"data row4 col2\" >96.88</td>\n",
              "                        <td id=\"T_528fb38e_fe82_11ea_9928_0242ac1c0002row4_col3\" class=\"data row4 col3\" >95.62</td>\n",
              "                        <td id=\"T_528fb38e_fe82_11ea_9928_0242ac1c0002row4_col4\" class=\"data row4 col4\" >96.88</td>\n",
              "                        <td id=\"T_528fb38e_fe82_11ea_9928_0242ac1c0002row4_col5\" class=\"data row4 col5\" >97.50</td>\n",
              "                        <td id=\"T_528fb38e_fe82_11ea_9928_0242ac1c0002row4_col6\" class=\"data row4 col6\" >96.25</td>\n",
              "                        <td id=\"T_528fb38e_fe82_11ea_9928_0242ac1c0002row4_col7\" class=\"data row4 col7\" >95.00</td>\n",
              "                        <td id=\"T_528fb38e_fe82_11ea_9928_0242ac1c0002row4_col8\" class=\"data row4 col8\" >96.25</td>\n",
              "                        <td id=\"T_528fb38e_fe82_11ea_9928_0242ac1c0002row4_col9\" class=\"data row4 col9\" >96.25</td>\n",
              "                        <td id=\"T_528fb38e_fe82_11ea_9928_0242ac1c0002row4_col10\" class=\"data row4 col10\" >96.25</td>\n",
              "                        <td id=\"T_528fb38e_fe82_11ea_9928_0242ac1c0002row4_col11\" class=\"data row4 col11\" >96.25</td>\n",
              "                        <td id=\"T_528fb38e_fe82_11ea_9928_0242ac1c0002row4_col12\" class=\"data row4 col12\" >96.25</td>\n",
              "            </tr>\n",
              "            <tr>\n",
              "                        <th id=\"T_528fb38e_fe82_11ea_9928_0242ac1c0002level0_row5\" class=\"row_heading level0 row5\" >6</th>\n",
              "                        <td id=\"T_528fb38e_fe82_11ea_9928_0242ac1c0002row5_col0\" class=\"data row5 col0\" >84.38</td>\n",
              "                        <td id=\"T_528fb38e_fe82_11ea_9928_0242ac1c0002row5_col1\" class=\"data row5 col1\" >96.25</td>\n",
              "                        <td id=\"T_528fb38e_fe82_11ea_9928_0242ac1c0002row5_col2\" class=\"data row5 col2\" >96.88</td>\n",
              "                        <td id=\"T_528fb38e_fe82_11ea_9928_0242ac1c0002row5_col3\" class=\"data row5 col3\" >96.25</td>\n",
              "                        <td id=\"T_528fb38e_fe82_11ea_9928_0242ac1c0002row5_col4\" class=\"data row5 col4\" >96.25</td>\n",
              "                        <td id=\"T_528fb38e_fe82_11ea_9928_0242ac1c0002row5_col5\" class=\"data row5 col5\" >96.25</td>\n",
              "                        <td id=\"T_528fb38e_fe82_11ea_9928_0242ac1c0002row5_col6\" class=\"data row5 col6\" >95.00</td>\n",
              "                        <td id=\"T_528fb38e_fe82_11ea_9928_0242ac1c0002row5_col7\" class=\"data row5 col7\" >95.62</td>\n",
              "                        <td id=\"T_528fb38e_fe82_11ea_9928_0242ac1c0002row5_col8\" class=\"data row5 col8\" >95.62</td>\n",
              "                        <td id=\"T_528fb38e_fe82_11ea_9928_0242ac1c0002row5_col9\" class=\"data row5 col9\" >95.62</td>\n",
              "                        <td id=\"T_528fb38e_fe82_11ea_9928_0242ac1c0002row5_col10\" class=\"data row5 col10\" >95.62</td>\n",
              "                        <td id=\"T_528fb38e_fe82_11ea_9928_0242ac1c0002row5_col11\" class=\"data row5 col11\" >95.00</td>\n",
              "                        <td id=\"T_528fb38e_fe82_11ea_9928_0242ac1c0002row5_col12\" class=\"data row5 col12\" >94.38</td>\n",
              "            </tr>\n",
              "            <tr>\n",
              "                        <th id=\"T_528fb38e_fe82_11ea_9928_0242ac1c0002level0_row6\" class=\"row_heading level0 row6\" >7</th>\n",
              "                        <td id=\"T_528fb38e_fe82_11ea_9928_0242ac1c0002row6_col0\" class=\"data row6 col0\" >84.38</td>\n",
              "                        <td id=\"T_528fb38e_fe82_11ea_9928_0242ac1c0002row6_col1\" class=\"data row6 col1\" >97.50</td>\n",
              "                        <td id=\"T_528fb38e_fe82_11ea_9928_0242ac1c0002row6_col2\" class=\"data row6 col2\" >96.88</td>\n",
              "                        <td id=\"T_528fb38e_fe82_11ea_9928_0242ac1c0002row6_col3\" class=\"data row6 col3\" >96.25</td>\n",
              "                        <td id=\"T_528fb38e_fe82_11ea_9928_0242ac1c0002row6_col4\" class=\"data row6 col4\" >96.25</td>\n",
              "                        <td id=\"T_528fb38e_fe82_11ea_9928_0242ac1c0002row6_col5\" class=\"data row6 col5\" >96.88</td>\n",
              "                        <td id=\"T_528fb38e_fe82_11ea_9928_0242ac1c0002row6_col6\" class=\"data row6 col6\" >96.88</td>\n",
              "                        <td id=\"T_528fb38e_fe82_11ea_9928_0242ac1c0002row6_col7\" class=\"data row6 col7\" >97.50</td>\n",
              "                        <td id=\"T_528fb38e_fe82_11ea_9928_0242ac1c0002row6_col8\" class=\"data row6 col8\" >97.50</td>\n",
              "                        <td id=\"T_528fb38e_fe82_11ea_9928_0242ac1c0002row6_col9\" class=\"data row6 col9\" >97.50</td>\n",
              "                        <td id=\"T_528fb38e_fe82_11ea_9928_0242ac1c0002row6_col10\" class=\"data row6 col10\" >97.50</td>\n",
              "                        <td id=\"T_528fb38e_fe82_11ea_9928_0242ac1c0002row6_col11\" class=\"data row6 col11\" >96.88</td>\n",
              "                        <td id=\"T_528fb38e_fe82_11ea_9928_0242ac1c0002row6_col12\" class=\"data row6 col12\" >98.12</td>\n",
              "            </tr>\n",
              "            <tr>\n",
              "                        <th id=\"T_528fb38e_fe82_11ea_9928_0242ac1c0002level0_row7\" class=\"row_heading level0 row7\" >8</th>\n",
              "                        <td id=\"T_528fb38e_fe82_11ea_9928_0242ac1c0002row7_col0\" class=\"data row7 col0\" >84.38</td>\n",
              "                        <td id=\"T_528fb38e_fe82_11ea_9928_0242ac1c0002row7_col1\" class=\"data row7 col1\" >97.50</td>\n",
              "                        <td id=\"T_528fb38e_fe82_11ea_9928_0242ac1c0002row7_col2\" class=\"data row7 col2\" >96.25</td>\n",
              "                        <td id=\"T_528fb38e_fe82_11ea_9928_0242ac1c0002row7_col3\" class=\"data row7 col3\" >94.38</td>\n",
              "                        <td id=\"T_528fb38e_fe82_11ea_9928_0242ac1c0002row7_col4\" class=\"data row7 col4\" >95.62</td>\n",
              "                        <td id=\"T_528fb38e_fe82_11ea_9928_0242ac1c0002row7_col5\" class=\"data row7 col5\" >96.88</td>\n",
              "                        <td id=\"T_528fb38e_fe82_11ea_9928_0242ac1c0002row7_col6\" class=\"data row7 col6\" >96.25</td>\n",
              "                        <td id=\"T_528fb38e_fe82_11ea_9928_0242ac1c0002row7_col7\" class=\"data row7 col7\" >95.62</td>\n",
              "                        <td id=\"T_528fb38e_fe82_11ea_9928_0242ac1c0002row7_col8\" class=\"data row7 col8\" >96.25</td>\n",
              "                        <td id=\"T_528fb38e_fe82_11ea_9928_0242ac1c0002row7_col9\" class=\"data row7 col9\" >96.25</td>\n",
              "                        <td id=\"T_528fb38e_fe82_11ea_9928_0242ac1c0002row7_col10\" class=\"data row7 col10\" >95.62</td>\n",
              "                        <td id=\"T_528fb38e_fe82_11ea_9928_0242ac1c0002row7_col11\" class=\"data row7 col11\" >95.00</td>\n",
              "                        <td id=\"T_528fb38e_fe82_11ea_9928_0242ac1c0002row7_col12\" class=\"data row7 col12\" >95.62</td>\n",
              "            </tr>\n",
              "            <tr>\n",
              "                        <th id=\"T_528fb38e_fe82_11ea_9928_0242ac1c0002level0_row8\" class=\"row_heading level0 row8\" >9</th>\n",
              "                        <td id=\"T_528fb38e_fe82_11ea_9928_0242ac1c0002row8_col0\" class=\"data row8 col0\" >82.50</td>\n",
              "                        <td id=\"T_528fb38e_fe82_11ea_9928_0242ac1c0002row8_col1\" class=\"data row8 col1\" >97.50</td>\n",
              "                        <td id=\"T_528fb38e_fe82_11ea_9928_0242ac1c0002row8_col2\" class=\"data row8 col2\" >95.00</td>\n",
              "                        <td id=\"T_528fb38e_fe82_11ea_9928_0242ac1c0002row8_col3\" class=\"data row8 col3\" >95.62</td>\n",
              "                        <td id=\"T_528fb38e_fe82_11ea_9928_0242ac1c0002row8_col4\" class=\"data row8 col4\" >96.25</td>\n",
              "                        <td id=\"T_528fb38e_fe82_11ea_9928_0242ac1c0002row8_col5\" class=\"data row8 col5\" >97.50</td>\n",
              "                        <td id=\"T_528fb38e_fe82_11ea_9928_0242ac1c0002row8_col6\" class=\"data row8 col6\" >96.88</td>\n",
              "                        <td id=\"T_528fb38e_fe82_11ea_9928_0242ac1c0002row8_col7\" class=\"data row8 col7\" >97.50</td>\n",
              "                        <td id=\"T_528fb38e_fe82_11ea_9928_0242ac1c0002row8_col8\" class=\"data row8 col8\" >96.88</td>\n",
              "                        <td id=\"T_528fb38e_fe82_11ea_9928_0242ac1c0002row8_col9\" class=\"data row8 col9\" >96.88</td>\n",
              "                        <td id=\"T_528fb38e_fe82_11ea_9928_0242ac1c0002row8_col10\" class=\"data row8 col10\" >95.62</td>\n",
              "                        <td id=\"T_528fb38e_fe82_11ea_9928_0242ac1c0002row8_col11\" class=\"data row8 col11\" >96.25</td>\n",
              "                        <td id=\"T_528fb38e_fe82_11ea_9928_0242ac1c0002row8_col12\" class=\"data row8 col12\" >95.62</td>\n",
              "            </tr>\n",
              "            <tr>\n",
              "                        <th id=\"T_528fb38e_fe82_11ea_9928_0242ac1c0002level0_row9\" class=\"row_heading level0 row9\" >10</th>\n",
              "                        <td id=\"T_528fb38e_fe82_11ea_9928_0242ac1c0002row9_col0\" class=\"data row9 col0\" >85.62</td>\n",
              "                        <td id=\"T_528fb38e_fe82_11ea_9928_0242ac1c0002row9_col1\" class=\"data row9 col1\" >97.50</td>\n",
              "                        <td id=\"T_528fb38e_fe82_11ea_9928_0242ac1c0002row9_col2\" class=\"data row9 col2\" >96.88</td>\n",
              "                        <td id=\"T_528fb38e_fe82_11ea_9928_0242ac1c0002row9_col3\" class=\"data row9 col3\" >95.62</td>\n",
              "                        <td id=\"T_528fb38e_fe82_11ea_9928_0242ac1c0002row9_col4\" class=\"data row9 col4\" >94.38</td>\n",
              "                        <td id=\"T_528fb38e_fe82_11ea_9928_0242ac1c0002row9_col5\" class=\"data row9 col5\" >96.25</td>\n",
              "                        <td id=\"T_528fb38e_fe82_11ea_9928_0242ac1c0002row9_col6\" class=\"data row9 col6\" >96.88</td>\n",
              "                        <td id=\"T_528fb38e_fe82_11ea_9928_0242ac1c0002row9_col7\" class=\"data row9 col7\" >97.50</td>\n",
              "                        <td id=\"T_528fb38e_fe82_11ea_9928_0242ac1c0002row9_col8\" class=\"data row9 col8\" >96.88</td>\n",
              "                        <td id=\"T_528fb38e_fe82_11ea_9928_0242ac1c0002row9_col9\" class=\"data row9 col9\" >96.25</td>\n",
              "                        <td id=\"T_528fb38e_fe82_11ea_9928_0242ac1c0002row9_col10\" class=\"data row9 col10\" >94.38</td>\n",
              "                        <td id=\"T_528fb38e_fe82_11ea_9928_0242ac1c0002row9_col11\" class=\"data row9 col11\" >96.25</td>\n",
              "                        <td id=\"T_528fb38e_fe82_11ea_9928_0242ac1c0002row9_col12\" class=\"data row9 col12\" >95.62</td>\n",
              "            </tr>\n",
              "    </tbody></table>"
            ],
            "text/plain": [
              "<pandas.io.formats.style.Styler at 0x7f30d9c1c3c8>"
            ]
          },
          "metadata": {
            "tags": []
          }
        }
      ]
    },
    {
      "cell_type": "markdown",
      "metadata": {
        "id": "GHiQoD867aOI",
        "colab_type": "text"
      },
      "source": [
        "Obervations\n",
        "- The very best accuracy is 98.12% when n_neighbors=7, n_components=13.\n",
        "    - That means we'd keep all columns; no dim reductions\n",
        "- Most rows are very stable except for the first column n_component=1\n",
        "- The row for n_neighbors=7 is best (or tied) in all but 3 columns/n_components.  This is a good reason to stick with n_neighbors=7.\n",
        "- If we want some dim reduction and don't mind losing 0.72% accuracy, (n_neighbors=7, n_components=3) looks good.\n",
        "- So, based on this, I'd conclude that (n_neighbors=7, n_components=13) and (n_neighbors=7, n_components=3) are the best models.\n"
      ]
    }
  ]
}